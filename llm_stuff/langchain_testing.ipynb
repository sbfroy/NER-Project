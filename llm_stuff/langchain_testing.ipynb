{
 "cells": [
  {
   "cell_type": "code",
   "execution_count": 1,
   "metadata": {},
   "outputs": [],
   "source": [
    "import sys\n",
    "import os\n",
    "\n",
    "sys.path.append(os.path.abspath(os.path.join(os.getcwd(), \"..\")))"
   ]
  },
  {
   "cell_type": "code",
   "execution_count": 2,
   "metadata": {},
   "outputs": [],
   "source": [
    "from tqdm import tqdm\n",
    "from pathlib import Path\n",
    "from src.utils.config_loader import load_config\n",
    "from src.utils.seed import seed_everything\n",
    "\n",
    "base_dir = Path(os.getcwd()).parent\n",
    "\n",
    "config = load_config(base_dir / 'secrets.yaml')\n",
    "\n",
    "seed_everything(42)"
   ]
  },
  {
   "cell_type": "code",
   "execution_count": 3,
   "metadata": {},
   "outputs": [],
   "source": [
    "from src.data.preprocessing import create_df\n",
    "\n",
    "val_df = create_df(base_dir / 'data/my_data/regplans-dev.conllu')"
   ]
  },
  {
   "cell_type": "code",
   "execution_count": 4,
   "metadata": {},
   "outputs": [],
   "source": [
    "from langchain_openai import AzureChatOpenAI\n",
    "from langchain_core.messages import (SystemMessage, HumanMessage)\n",
    "\n",
    "os.environ['OPENAI_API_VERSION'] = config['OPENAI_API_VERSION']\n",
    "os.environ['AZURE_OPENAI_ENDPOINT'] = config['OPENAI_API_BASE']\n",
    "os.environ['AZURE_OPENAI_API_KEY'] = config['OPENAI_API_KEY']\n",
    "\n",
    "llm = AzureChatOpenAI(\n",
    "    deployment_name=config['OPENAI_DEPLOYMENT_NAME'],\n",
    "    temperature=0.0\n",
    ")"
   ]
  },
  {
   "cell_type": "code",
   "execution_count": 5,
   "metadata": {},
   "outputs": [
    {
     "name": "stdout",
     "output_type": "stream",
     "text": [
      "Example 1:\n",
      "Text: \"Adkomst til BFS1 og BFS2 skal være fra Solfjellveien .\"\n",
      "Entities:\n",
      "BFS1 B-FELT\n",
      "BFS2 B-FELT\n",
      "##\n",
      "\n",
      "Example 2:\n",
      "Text: \"Parkeringsplassar ( SPP ) Grøntstruktur , jf . PBL § 12-5 , 2 . ledd nr . 3 - Turveg ( GT )\"\n",
      "Entities:\n",
      "SPP B-FELT\n",
      "GT B-FELT\n",
      "##\n",
      "\n",
      "Example 3:\n",
      "Text: \"Før det vert gjeve mellombels bruksløyve / ferdigattest for ny bueining innanfor felt BKS1 og BFS14 og 15\"\n",
      "Entities:\n",
      "BKS1 B-FELT\n",
      "BFS14 B-FELT\n",
      "og I-FELT\n",
      "15 I-FELT\n",
      "##\n",
      "\n",
      "Example 4:\n",
      "Text: \"Bebyggelsestype Innenfor BKS1-BKS6 og BFS2 skal det oppføres flermannsboliger , kjedeboliger og / eller rekkehus .\"\n",
      "Entities:\n",
      "BKS1-BKS6 B-FELT\n",
      "BFS2 B-FELT\n",
      "##\n",
      "\n",
      "Example 5:\n",
      "Text: \"Areal brattere enn 1 : 3 , arealer i gul eller rød sone for henholdsvis støy ( T-1442 ) og luftkvalitet ( T-1520 ) .\"\n",
      "Entities:\n",
      "\n",
      "##\n",
      "\n"
     ]
    }
   ],
   "source": [
    "import json\n",
    "import random\n",
    "\n",
    "def format_examples(example_subset): \n",
    "    # Formats the examples into a string for later prompt\n",
    "    formatted = []\n",
    "    for i, ex in enumerate(example_subset):\n",
    "        entity_lines = \"\\n\".join([f\"{e['word']} {e['label']}\" for e in ex[\"entities\"]])\n",
    "        formatted.append(f\"Example {i+1}:\\nText: \\\"{ex['sentence']}\\\"\\nEntities:\\n{entity_lines}\\n##\\n\")\n",
    "    \n",
    "    return \"\\n\".join(formatted)\n",
    "\n",
    "with open(base_dir / 'llm_stuff/prompts/examples.json', 'r') as f:\n",
    "    example_bank = json.load(f)\n",
    "\n",
    "ids = [1, 19, 16, 3, 21]\n",
    "\n",
    "#ids = random.sample(range(1, 26), 3)\n",
    "\n",
    "examples = [next(ex for ex in example_bank if ex[\"id\"] == id) for id in ids]\n",
    "\n",
    "formatted_examples = format_examples(examples)\n",
    "\n",
    "print(formatted_examples)"
   ]
  },
  {
   "cell_type": "code",
   "execution_count": 6,
   "metadata": {},
   "outputs": [
    {
     "name": "stderr",
     "output_type": "stream",
     "text": [
      "100%|██████████| 176/176 [17:16<00:00,  5.89s/it]\n"
     ]
    }
   ],
   "source": [
    "from src.utils.label_mapping_regplans import label_to_id\n",
    "from collections import defaultdict\n",
    "\n",
    "all_pred_ids = []\n",
    "all_true_ids = []\n",
    "all_results = []\n",
    "\n",
    "val_df = val_df.iloc[:int(len(val_df) * 0.5)] # Use only half the data for testing\n",
    "\n",
    "for idx, row in tqdm(val_df.iterrows(), total=len(val_df)):\n",
    "\n",
    "    sentence = row['full_text']\n",
    "    tokens = row['words']\n",
    "    true_labels = row['labels']  \n",
    "\n",
    "    msg = [\n",
    "    SystemMessage(\n",
    "        f\"\"\"\n",
    "        You are an expert in Named Entity Recognition (NER). Your task is to identify named entities that represent field zone names in the given text.\n",
    "        \"\"\"\n",
    "    ),\n",
    "    HumanMessage(\n",
    "        f\"\"\" \n",
    "        The possible named entities are exclusively B-FELT (beginning of a field zone name) and I-FELT (continuation of the same field zone name).\n",
    "\n",
    "        {formatted_examples}\n",
    "\n",
    "        Return one line per token, including only tokens that are part of field zone names, each followed by its corresponding label, separated by a space.\n",
    "                 \n",
    "        Text: '{sentence}'\n",
    "\n",
    "        Entities:\n",
    "        \"\"\"\n",
    "    )]\n",
    "\n",
    "    try:\n",
    "        response = llm.invoke(msg)\n",
    "\n",
    "        entities = defaultdict(list) # Word-label pairs\n",
    "\n",
    "        for line in response.content.splitlines():\n",
    "            parts = line.strip().split()\n",
    "            if len(parts) == 2:\n",
    "                word, label = parts[0], parts[1]\n",
    "                entities[word].append(label)\n",
    "\n",
    "        pred_labels = []\n",
    "        word_counts = defaultdict(int)  # Track occurrences of each word\n",
    "\n",
    "        for token in tokens:\n",
    "            if token in entities and word_counts[token] < len(entities[token]):\n",
    "                pred_labels.append(entities[token][word_counts[token]])  # Get the label in order\n",
    "                word_counts[token] += 1  # Increment occurrence counter\n",
    "            else:\n",
    "                pred_labels.append(\"O\")  # Default to \"O\" if missing\n",
    "\n",
    "        # Convert labels to IDs\n",
    "        pred_ids = []\n",
    "        for label in pred_labels:\n",
    "            if label in label_to_id:\n",
    "                pred_ids.append(label_to_id[label])\n",
    "            else:\n",
    "                pred_ids.append(label_to_id.get(\"O\", -1))\n",
    "\n",
    "        true_ids = [label_to_id[label] for label in true_labels]\n",
    "\n",
    "        all_pred_ids.extend(pred_ids)\n",
    "        all_true_ids.extend(true_ids)\n",
    "\n",
    "        all_results.append({\n",
    "            'sentence': sentence,\n",
    "            'tokens': tokens,\n",
    "            'true_labels': true_labels,\n",
    "            'predicted_labels': pred_labels,\n",
    "            'generated_text': response.content\n",
    "        })   \n",
    "        \n",
    "    except Exception as e:\n",
    "        print(f\"Skipping row {idx} due to error: {e}\")\n",
    "        continue   "
   ]
  },
  {
   "cell_type": "code",
   "execution_count": 7,
   "metadata": {},
   "outputs": [
    {
     "name": "stdout",
     "output_type": "stream",
     "text": [
      "Evaluation Metrics on Val Set:\n",
      "{'precision': 0.7729340195655823, 'recall': 0.7344198822975159, 'f1': 0.7513071298599243, 'span_acc': 0.8362069129943848, 'classification_report': {'B-FELT': {'precision': 0.8947368421052632, 'recall': 0.8793103448275862, 'f1-score': 0.8869565217391304, 'support': 116.0}, 'I-FELT': {'precision': 0.4375, 'recall': 0.3333333333333333, 'f1-score': 0.3783783783783784, 'support': 21.0}, 'O': {'precision': 0.9865654205607477, 'recall': 0.9906158357771261, 'f1-score': 0.9885864793678666, 'support': 1705.0}, 'accuracy': 0.9761129207383279, 'macro avg': {'precision': 0.772934087555337, 'recall': 0.7344198379793485, 'f1-score': 0.7513071264951251, 'support': 1842.0}, 'weighted avg': {'precision': 0.9745228098481463, 'recall': 0.9761129207383279, 'f1-score': 0.9752295601465242, 'support': 1842.0}}}\n"
     ]
    }
   ],
   "source": [
    "from llm_stuff.evaluation import evaluate \n",
    "\n",
    "metrics = evaluate(all_true_ids, all_pred_ids)\n",
    "\n",
    "print(\"Evaluation Metrics on Val Set:\")\n",
    "print(metrics)\n",
    "\n",
    "final_output = {\n",
    "    'prompt': str(msg),\n",
    "    'evaluation_metrics': metrics,\n",
    "    'results': all_results\n",
    "}\n",
    "\n",
    "with open(base_dir / f\"llm_stuff/results/{config['OPENAI_DEPLOYMENT_NAME']}_FEWSHOT_5_V2.json\", 'w', encoding='utf-8') as f:\n",
    "    json.dump(final_output, f, indent=4, ensure_ascii=False)"
   ]
  }
 ],
 "metadata": {
  "kernelspec": {
   "display_name": "ml_env",
   "language": "python",
   "name": "python3"
  },
  "language_info": {
   "codemirror_mode": {
    "name": "ipython",
    "version": 3
   },
   "file_extension": ".py",
   "mimetype": "text/x-python",
   "name": "python",
   "nbconvert_exporter": "python",
   "pygments_lexer": "ipython3",
   "version": "3.12.2"
  }
 },
 "nbformat": 4,
 "nbformat_minor": 4
}
