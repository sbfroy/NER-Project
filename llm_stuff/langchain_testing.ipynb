{
 "cells": [
  {
   "cell_type": "code",
   "execution_count": 1,
   "metadata": {},
   "outputs": [],
   "source": [
    "import sys\n",
    "import os\n",
    "\n",
    "sys.path.append(os.path.abspath(os.path.join(os.getcwd(), \"..\")))"
   ]
  },
  {
   "cell_type": "code",
   "execution_count": 2,
   "metadata": {},
   "outputs": [],
   "source": [
    "from tqdm import tqdm\n",
    "from pathlib import Path\n",
    "from src.utils.config_loader import load_config\n",
    "\n",
    "base_dir = Path(os.getcwd()).parent\n",
    "\n",
    "config = load_config(base_dir / 'secrets.yaml')"
   ]
  },
  {
   "cell_type": "code",
   "execution_count": 3,
   "metadata": {},
   "outputs": [],
   "source": [
    "from src.data.preprocessing import create_df\n",
    "\n",
    "val_df = create_df(base_dir / 'data/my_data/regplans-dev.conllu')"
   ]
  },
  {
   "cell_type": "code",
   "execution_count": 4,
   "metadata": {},
   "outputs": [],
   "source": [
    "from langchain_openai import AzureChatOpenAI\n",
    "from langchain_core.messages import (SystemMessage, HumanMessage)\n",
    "\n",
    "os.environ['OPENAI_API_VERSION'] = config['OPENAI_API_VERSION']\n",
    "os.environ['AZURE_OPENAI_ENDPOINT'] = config['OPENAI_API_BASE']\n",
    "os.environ['AZURE_OPENAI_API_KEY'] = config['OPENAI_API_KEY']\n",
    "\n",
    "llm = AzureChatOpenAI(\n",
    "    deployment_name=config['OPENAI_DEPLOYMENT_NAME'],\n",
    "    temperature=0.0\n",
    ")"
   ]
  },
  {
   "cell_type": "code",
   "execution_count": 5,
   "metadata": {},
   "outputs": [
    {
     "name": "stdout",
     "output_type": "stream",
     "text": [
      "Example 1:\n",
      "Sentence: \"Områdene er felles for byggeområdene BFS1 , BFS2 , BFS3 , BFS4 , BFS5 , B1 , B2 og BKS1 og skal nyttes til lek og opphold / rekreasjon .\"\n",
      "Entities:\n",
      "BFS1 B-FELT\n",
      "BFS2 B-FELT\n",
      "BFS3 B-FELT\n",
      "BFS4 B-FELT\n",
      "BFS5 B-FELT\n",
      "B1 B-FELT\n",
      "B2 B-FELT\n",
      "BKS1 B-FELT\n",
      "\n",
      "Example 2:\n",
      "Sentence: \"Det avsettes 2 biloppstillingsplasser pr . boenhet i BKS1-BKS6 og BFS1-BFS3 .\"\n",
      "Entities:\n",
      "BKS1-BKS6 B-FELT\n",
      "BFS1-BFS3 B-FELT\n",
      "\n"
     ]
    }
   ],
   "source": [
    "import json\n",
    "\n",
    "def format_examples(example_subset): \n",
    "    # Formats the examples into a string for later prompt\n",
    "    formatted = []\n",
    "    for i, ex in enumerate(example_subset):\n",
    "        entity_lines = \"\\n\".join([f\"{e['word']} {e['label']}\" for e in ex[\"entities\"]])\n",
    "        formatted.append(f\"Example {i+1}:\\nSentence: \\\"{ex['sentence']}\\\"\\nEntities:\\n{entity_lines}\\n\")\n",
    "    \n",
    "    return \"\\n\".join(formatted)\n",
    "\n",
    "with open(base_dir / 'llm_stuff/prompts/examples.json', 'r') as f:\n",
    "    example_bank = json.load(f)\n",
    "\n",
    "ids = [24, 20] \n",
    "\n",
    "examples = [next(ex for ex in example_bank if ex[\"id\"] == id) for id in ids]\n",
    "\n",
    "formatted_examples = format_examples(examples)\n",
    "\n",
    "print(formatted_examples)"
   ]
  },
  {
   "cell_type": "code",
   "execution_count": 6,
   "metadata": {},
   "outputs": [
    {
     "name": "stderr",
     "output_type": "stream",
     "text": [
      "  0%|          | 0/353 [00:00<?, ?it/s]"
     ]
    },
    {
     "name": "stderr",
     "output_type": "stream",
     "text": [
      "100%|██████████| 353/353 [32:17<00:00,  5.49s/it]  \n"
     ]
    }
   ],
   "source": [
    "from src.utils.label_mapping_regplans import label_to_id\n",
    "from collections import defaultdict\n",
    "\n",
    "all_pred_ids = []\n",
    "all_true_ids = []\n",
    "all_results = []\n",
    "\n",
    "# Only do the anlaysis on 25 % of the data\n",
    "# val_df = val_df.iloc[:int(len(val_df) * 0.25)]\n",
    "\n",
    "for idx, row in tqdm(val_df.iterrows(), total=len(val_df)):\n",
    "\n",
    "    sentence = row['full_text']\n",
    "    tokens = row['words']\n",
    "    true_labels = row['labels']  \n",
    "\n",
    "    msg = [\n",
    "    SystemMessage(\n",
    "        f\"\"\"You are an expert in Natural Language Processing. Your task is to identify Named Entities (NER) in a given text.\n",
    "            The possible Named Entities are exclusively 'B-FELT' and 'I-FELT'. The entities are defined as follows:\n",
    "\n",
    "            - B-FELT: The beginning of a field zone name.\n",
    "            - I-FELT: The continuation of a field zone name.   \n",
    "                        \n",
    "            ### Examples:\n",
    "            \n",
    "            {formatted_examples}\n",
    "        \"\"\"\n",
    "    ),\n",
    "    HumanMessage(f\"Your task is to identify the Named Entities in the following sentence: '{sentence}'\") ]\n",
    "\n",
    "    response = llm.invoke(msg)\n",
    "\n",
    "    entities = defaultdict(list) # Word-label pairs\n",
    "\n",
    "    for line in response.content.splitlines():\n",
    "        parts = line.strip().split()\n",
    "        if len(parts) == 2:\n",
    "            word, label = parts[0], parts[1]\n",
    "            entities[word].append(label)\n",
    "\n",
    "    pred_labels = []\n",
    "    word_counts = defaultdict(int)  # Track occurrences of each word\n",
    "\n",
    "    for token in tokens:\n",
    "        if token in entities and word_counts[token] < len(entities[token]):\n",
    "            pred_labels.append(entities[token][word_counts[token]])  # Get the label in order\n",
    "            word_counts[token] += 1  # Increment occurrence counter\n",
    "        else:\n",
    "            pred_labels.append(\"O\")  # Default to \"O\" if missing\n",
    "\n",
    "    # Convert labels to IDs\n",
    "    pred_ids = []\n",
    "    for label in pred_labels:\n",
    "        if label in label_to_id:\n",
    "            pred_ids.append(label_to_id[label])\n",
    "        else:\n",
    "            pred_ids.append(label_to_id.get(\"O\", -1))\n",
    "\n",
    "    true_ids = [label_to_id[label] for label in true_labels]\n",
    "\n",
    "    all_pred_ids.extend(pred_ids)\n",
    "    all_true_ids.extend(true_ids)\n",
    "\n",
    "    all_results.append({\n",
    "        'sentence': sentence,\n",
    "        'tokens': tokens,\n",
    "        'true_labels': true_labels,\n",
    "        'predicted_labels': pred_labels,\n",
    "        'generated_text': response.content\n",
    "    })"
   ]
  },
  {
   "cell_type": "code",
   "execution_count": 7,
   "metadata": {},
   "outputs": [
    {
     "name": "stdout",
     "output_type": "stream",
     "text": [
      "Evaluation Metrics on Dev Set:\n",
      "{'precision': 0.6279045939445496, 'recall': 0.616289496421814, 'f1': 0.6190614104270935, 'span_acc': 0.7322834730148315, 'classification_report': {'B-FELT': {'precision': 0.8333333333333334, 'recall': 0.7480314960629921, 'f1-score': 0.7883817427385892, 'support': 127.0}, 'I-FELT': {'precision': 0.0625, 'recall': 0.1111111111111111, 'f1-score': 0.08, 'support': 9.0}, 'O': {'precision': 0.987880671224363, 'recall': 0.9897260273972602, 'f1-score': 0.9888024883359253, 'support': 3212.0}, 'accuracy': 0.9781959378733572, 'macro avg': {'precision': 0.6279046681858987, 'recall': 0.6162895448571212, 'f1-score': 0.6190614103581714, 'support': 3348.0}, 'weighted avg': {'precision': 0.9795306300197095, 'recall': 0.9781959378733572, 'f1-score': 0.9787568918347649, 'support': 3348.0}}}\n"
     ]
    }
   ],
   "source": [
    "from llm_stuff.evaluation import evaluate \n",
    "\n",
    "metrics = evaluate(all_true_ids, all_pred_ids)\n",
    "\n",
    "print(\"Evaluation Metrics on Dev Set:\")\n",
    "print(metrics)\n",
    "\n",
    "final_output = {\n",
    "    'prompt': str(msg),\n",
    "    'evaluation_metrics': metrics,\n",
    "    'results': all_results\n",
    "}\n",
    "\n",
    "with open(base_dir / f\"llm_stuff/results/{config['OPENAI_DEPLOYMENT_NAME']}_fewShot_2ex.json\", 'w', encoding='utf-8') as f:\n",
    "    json.dump(final_output, f, indent=4, ensure_ascii=False)"
   ]
  }
 ],
 "metadata": {
  "kernelspec": {
   "display_name": "ml_env",
   "language": "python",
   "name": "python3"
  },
  "language_info": {
   "codemirror_mode": {
    "name": "ipython",
    "version": 3
   },
   "file_extension": ".py",
   "mimetype": "text/x-python",
   "name": "python",
   "nbconvert_exporter": "python",
   "pygments_lexer": "ipython3",
   "version": "3.12.2"
  }
 },
 "nbformat": 4,
 "nbformat_minor": 4
}
