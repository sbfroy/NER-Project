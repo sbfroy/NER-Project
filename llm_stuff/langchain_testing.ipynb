{
 "cells": [
  {
   "cell_type": "code",
   "execution_count": 1,
   "metadata": {},
   "outputs": [],
   "source": [
    "import sys\n",
    "import os\n",
    "\n",
    "sys.path.append(os.path.abspath(os.path.join(os.getcwd(), \"..\")))"
   ]
  },
  {
   "cell_type": "code",
   "execution_count": 2,
   "metadata": {},
   "outputs": [],
   "source": [
    "from tqdm import tqdm\n",
    "from pathlib import Path\n",
    "from src.utils.config_loader import load_config\n",
    "\n",
    "base_dir = Path(os.getcwd()).parent\n",
    "\n",
    "config = load_config(base_dir / 'secrets.yaml')"
   ]
  },
  {
   "cell_type": "code",
   "execution_count": 3,
   "metadata": {},
   "outputs": [],
   "source": [
    "from src.data.preprocessing import create_df\n",
    "\n",
    "val_df = create_df(base_dir / 'data/my_data/regplans-dev.conllu')"
   ]
  },
  {
   "cell_type": "code",
   "execution_count": 4,
   "metadata": {},
   "outputs": [],
   "source": [
    "from langchain_openai import AzureChatOpenAI\n",
    "from langchain_core.messages import (SystemMessage, HumanMessage)\n",
    "\n",
    "os.environ['OPENAI_API_VERSION'] = config['OPENAI_API_VERSION']\n",
    "os.environ['AZURE_OPENAI_ENDPOINT'] = config['OPENAI_API_BASE']\n",
    "os.environ['AZURE_OPENAI_API_KEY'] = config['OPENAI_API_KEY']\n",
    "\n",
    "llm = AzureChatOpenAI(\n",
    "    deployment_name=config['OPENAI_DEPLOYMENT_NAME'],\n",
    "    temperature=0.0\n",
    ")"
   ]
  },
  {
   "cell_type": "code",
   "execution_count": null,
   "metadata": {},
   "outputs": [
    {
     "name": "stderr",
     "output_type": "stream",
     "text": [
      "100%|██████████| 3/3 [00:01<00:00,  1.94it/s]\n"
     ]
    }
   ],
   "source": [
    "from src.utils.label_mapping_regplans import label_to_id\n",
    "from collections import defaultdict\n",
    "\n",
    "all_pred_ids = []\n",
    "all_true_ids = []\n",
    "all_results = []\n",
    "\n",
    "# Only do the anlaysis on 25 % of the data\n",
    "val_df = val_df.iloc[:int(len(val_df) * 0.25)]\n",
    "\n",
    "for idx, row in tqdm(val_df.iterrows(), total=len(val_df)):\n",
    "\n",
    "    sentence = row['full_text']\n",
    "    tokens = row['words']\n",
    "    true_labels = row['labels']  \n",
    "\n",
    "    msg = [\n",
    "    SystemMessage(\n",
    "        f\"\"\"You are an expert in Natural Language Processing. Your task is to identify Named Entities (NER) in a given text.\n",
    "            The possible Named Entities are exclusively 'B-FELT' and 'I-FELT'. The entities are defined as follows:\n",
    "\n",
    "            - B-FELT: The beginning of a field zone name.\n",
    "            - I-FELT: The continuation of a field zone name.   \n",
    "                        \n",
    "            ### Examples:\n",
    "            \n",
    "            Example 1:\n",
    "            Sentence: \"Adkomst til BFS1 og BFS2 skal være fra Solfjellveien .\"\n",
    "            Entities:\n",
    "            BFS1 B-FELT\n",
    "            BFS2 B-FELT\n",
    "                \n",
    "            Example 2:\n",
    "            Sentence: \"På friområdene GF1 - GF3 tillates vanlig skjøtsel av trær og vegetasjon .\"\n",
    "            Entities:\n",
    "            GF1 B-FELT\n",
    "            - I-FELT\n",
    "            GF3 I-FELT\n",
    "\n",
    "            Example 3:\n",
    "            Sentence: \"Sonene med nemningane # 1 , # 2 og # 3 gjeld automatisk freda kulturminne , dyrkingsspor med id .\"\n",
    "            Entities:\n",
    "            # B-FELT\n",
    "            1 I-FELT\n",
    "            # B-FELT\n",
    "            2 I-FELT\n",
    "            # B-FELT\n",
    "            3 I-FELT\n",
    "\n",
    "            Example 4:\n",
    "            Sentence: \"Areal brattere enn 1 : 3 , arealer i gul eller rød sone for henholdsvis støy ( T-1442 ) og luftkvalitet ( T-1520 ) .\"\n",
    "            Entities:\n",
    "\n",
    "            ### Rules: \n",
    "            \n",
    "            - Only tag words that belong to a field zone name.\n",
    "            - If a field zone name consists of multiple tokens, the first token gets the 'B-FELT' label, and the rest get the 'I-FELT' label.\n",
    "            - For a field zone name an I-FELT cannot exist without a preceding B-FELT.\n",
    "            - Do not tag other words that are not field zone names.\n",
    "            - Maintain the output format as follows: `{{entity}} {{label}}` (one per line).\n",
    "        \"\"\"\n",
    "    ),\n",
    "    HumanMessage(f\"Your task is to identify the Named Entities in the following sentence: '{sentence}'\") ]\n",
    "\n",
    "    response = llm.invoke(msg)\n",
    "\n",
    "    entities = defaultdict(list) # Word-label pairs\n",
    "\n",
    "    for line in response.content.splitlines():\n",
    "        parts = line.strip().split()\n",
    "        if len(parts) == 2:\n",
    "            word, label = parts[0], parts[1]\n",
    "            entities[word].append(label)\n",
    "\n",
    "    pred_labels = []\n",
    "    word_counts = defaultdict(int)  # Track occurrences of each word\n",
    "\n",
    "    for token in tokens:\n",
    "        if token in entities and word_counts[token] < len(entities[token]):\n",
    "            pred_labels.append(entities[token][word_counts[token]])  # Get the label in order\n",
    "            word_counts[token] += 1  # Increment occurrence counter\n",
    "        else:\n",
    "            pred_labels.append(\"O\")  # Default to \"O\" if missing\n",
    "\n",
    "    # Convert labels to IDs\n",
    "    pred_ids = []\n",
    "    for label in pred_labels:\n",
    "        if label in label_to_id:\n",
    "            pred_ids.append(label_to_id[label])\n",
    "        else:\n",
    "            print(f\"Warning: Unexpected label '{label}' found. Assigning default label 'O'.\")\n",
    "            pred_ids.append(label_to_id.get(\"O\", -1))\n",
    "\n",
    "    true_ids = [label_to_id[label] for label in true_labels]\n",
    "\n",
    "    all_pred_ids.extend(pred_ids)\n",
    "    all_true_ids.extend(true_ids)\n",
    "\n",
    "    all_results.append({\n",
    "        'sentence': sentence,\n",
    "        'tokens': tokens,\n",
    "        'true_labels': true_labels,\n",
    "        'predicted_labels': pred_labels,\n",
    "        'generated_text': response.content\n",
    "    })"
   ]
  },
  {
   "cell_type": "code",
   "execution_count": null,
   "metadata": {},
   "outputs": [
    {
     "name": "stdout",
     "output_type": "stream",
     "text": [
      "Evaluation Metrics on Dev Set:\n",
      "{'precision': 0.875, 'recall': 0.9878048896789551, 'f1': 0.922398567199707, 'span_acc': 1.0, 'classification_report': {'B-FELT': {'precision': 0.75, 'recall': 1.0, 'f1-score': 0.8571428571428571, 'support': 3.0}, 'O': {'precision': 1.0, 'recall': 0.975609756097561, 'f1-score': 0.9876543209876543, 'support': 41.0}, 'accuracy': 0.9772727272727273, 'macro avg': {'precision': 0.875, 'recall': 0.9878048780487805, 'f1-score': 0.9223985890652557, 'support': 44.0}, 'weighted avg': {'precision': 0.9829545454545454, 'recall': 0.9772727272727273, 'f1-score': 0.9787558120891453, 'support': 44.0}}}\n"
     ]
    }
   ],
   "source": [
    "from llm_stuff.evaluation import evaluate \n",
    "import json\n",
    "\n",
    "metrics = evaluate(all_true_ids, all_pred_ids)\n",
    "\n",
    "print(\"Evaluation Metrics on Dev Set:\")\n",
    "print(metrics)\n",
    "\n",
    "final_output = {\n",
    "    'prompt': str(msg),\n",
    "    'evaluation_metrics': metrics,\n",
    "    'results': all_results\n",
    "}\n",
    "\n",
    "with open(base_dir / f\"llm_stuff/results/{config['OPENAI_DEPLOYMENT_NAME']}_PROMPT_V1.json\", 'w', encoding='utf-8') as f:\n",
    "    json.dump(final_output, f, indent=4, ensure_ascii=False)"
   ]
  }
 ],
 "metadata": {
  "kernelspec": {
   "display_name": "ml_env",
   "language": "python",
   "name": "python3"
  },
  "language_info": {
   "codemirror_mode": {
    "name": "ipython",
    "version": 3
   },
   "file_extension": ".py",
   "mimetype": "text/x-python",
   "name": "python",
   "nbconvert_exporter": "python",
   "pygments_lexer": "ipython3",
   "version": "3.12.2"
  }
 },
 "nbformat": 4,
 "nbformat_minor": 2
}
