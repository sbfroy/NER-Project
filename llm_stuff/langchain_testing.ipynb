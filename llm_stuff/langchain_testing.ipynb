{
 "cells": [
  {
   "cell_type": "code",
   "execution_count": 1,
   "metadata": {},
   "outputs": [],
   "source": [
    "import sys\n",
    "import os\n",
    "\n",
    "sys.path.append(os.path.abspath(os.path.join(os.getcwd(), \"..\")))"
   ]
  },
  {
   "cell_type": "code",
   "execution_count": 2,
   "metadata": {},
   "outputs": [],
   "source": [
    "from tqdm import tqdm\n",
    "from pathlib import Path\n",
    "from src.utils.config_loader import load_config\n",
    "from src.utils.seed import seed_everything\n",
    "\n",
    "base_dir = Path(os.getcwd()).parent\n",
    "\n",
    "config = load_config(base_dir / 'secrets.yaml')\n",
    "\n",
    "seed_everything(42)"
   ]
  },
  {
   "cell_type": "code",
   "execution_count": 3,
   "metadata": {},
   "outputs": [],
   "source": [
    "from src.data.preprocessing import create_df\n",
    "\n",
    "val_df = create_df(base_dir / 'data/my_data/regplans-dev.conllu')"
   ]
  },
  {
   "cell_type": "code",
   "execution_count": 4,
   "metadata": {},
   "outputs": [],
   "source": [
    "from langchain_openai import AzureChatOpenAI\n",
    "from langchain_core.messages import (SystemMessage, HumanMessage)\n",
    "\n",
    "os.environ['OPENAI_API_VERSION'] = config['OPENAI_API_VERSION']\n",
    "os.environ['AZURE_OPENAI_ENDPOINT'] = config['OPENAI_API_BASE']\n",
    "os.environ['AZURE_OPENAI_API_KEY'] = config['OPENAI_API_KEY']\n",
    "\n",
    "llm = AzureChatOpenAI(\n",
    "    deployment_name=config['OPENAI_DEPLOYMENT_NAME'],\n",
    "    temperature=0.0\n",
    ")"
   ]
  },
  {
   "cell_type": "code",
   "execution_count": 5,
   "metadata": {},
   "outputs": [
    {
     "name": "stdout",
     "output_type": "stream",
     "text": [
      "Eksempel 1:\n",
      "Tekst: \"2.02 Bygningenepå feltene BBB1 , BFS 1 og BFS2 skal plasseres innenfor byggegrensene som er vist på plankartet .\"\n",
      "Entiteter:\n",
      "BBB1 B-FELT\n",
      "BFS B-FELT\n",
      "1 I-FELT\n",
      "BFS2 B-FELT\n",
      "##\n",
      "\n",
      "Eksempel 2:\n",
      "Tekst: \"Parkeringsplassar ( SPP ) Grøntstruktur , jf . PBL § 12-5 , 2 . ledd nr . 3 - Turveg ( GT )\"\n",
      "Entiteter:\n",
      "SPP B-FELT\n",
      "GT B-FELT\n",
      "##\n",
      "\n",
      "Eksempel 3:\n",
      "Tekst: \"Adkomst til BFS1 og BFS2 skal være fra Solfjellveien .\"\n",
      "Entiteter:\n",
      "BFS1 B-FELT\n",
      "BFS2 B-FELT\n",
      "##\n",
      "\n",
      "Eksempel 4:\n",
      "Tekst: \"Areal brattere enn 1 : 3 , arealer i gul eller rød sone for henholdsvis støy ( T-1442 ) og luftkvalitet ( T-1520 ) .\"\n",
      "Entiteter:\n",
      "\n",
      "##\n",
      "\n",
      "Eksempel 5:\n",
      "Tekst: \"Før det vert gjeve mellombels bruksløyve / ferdigattest for ny bueining innanfor felt BKS1 og BFS14 og 15\"\n",
      "Entiteter:\n",
      "BKS1 B-FELT\n",
      "BFS14 B-FELT\n",
      "og I-FELT\n",
      "15 I-FELT\n",
      "##\n",
      "\n"
     ]
    }
   ],
   "source": [
    "import json\n",
    "import random\n",
    "\n",
    "def format_examples(example_subset): \n",
    "    # Formats the examples into a string for later prompt\n",
    "    formatted = []\n",
    "    for i, ex in enumerate(example_subset):\n",
    "        entity_lines = \"\\n\".join([f\"{e['word']} {e['label']}\" for e in ex[\"entities\"]])\n",
    "        formatted.append(f\"Eksempel {i+1}:\\nTekst: \\\"{ex['sentence']}\\\"\\nEntiteter:\\n{entity_lines}\\n##\\n\")\n",
    "    \n",
    "    return \"\\n\".join(formatted)\n",
    "\n",
    "with open(base_dir / 'llm_stuff/prompts/examples.json', 'r') as f:\n",
    "    example_bank = json.load(f)\n",
    "\n",
    "ids = [5, 19, 1, 21, 16]\n",
    "\n",
    "#ids = random.sample(range(1, 26), 3)\n",
    "\n",
    "examples = [next(ex for ex in example_bank if ex[\"id\"] == id) for id in ids]\n",
    "\n",
    "formatted_examples = format_examples(examples)\n",
    "\n",
    "print(formatted_examples)"
   ]
  },
  {
   "cell_type": "code",
   "execution_count": 6,
   "metadata": {},
   "outputs": [
    {
     "name": "stderr",
     "output_type": "stream",
     "text": [
      "  0%|          | 0/353 [00:00<?, ?it/s]"
     ]
    },
    {
     "name": "stderr",
     "output_type": "stream",
     "text": [
      "100%|██████████| 353/353 [35:25<00:00,  6.02s/it]  \n"
     ]
    }
   ],
   "source": [
    "from src.utils.label_mapping_regplans import label_to_id\n",
    "from collections import defaultdict\n",
    "\n",
    "all_pred_ids = []\n",
    "all_true_ids = []\n",
    "all_results = []\n",
    "\n",
    "# val_df = val_df.iloc[:int(len(val_df) * 0.5)] # Use only half the data for testing\n",
    "\n",
    "for idx, row in tqdm(val_df.iterrows(), total=len(val_df)):\n",
    "\n",
    "    sentence = row['full_text']\n",
    "    tokens = row['words']\n",
    "    true_labels = row['labels']  \n",
    "\n",
    "    msg = [\n",
    "        SystemMessage(\n",
    "            content=(\n",
    "                \"Du er en ekspert på Named Entity Recognition (NER). Din oppgave er å identifisere entiteter \"\n",
    "                \"som representerer feltnavn i tekstutdrag fra reguleringsplaner.\"\n",
    "            )\n",
    "        ),\n",
    "        HumanMessage(\n",
    "            content=f\"\"\"\\\n",
    "    De eneste gyldige etikettene er B-FELT (begynnelsen på et feltnavn) og I-FELT (fortsettelsen av det samme feltnavnet).\n",
    "\n",
    "    {formatted_examples}\n",
    "\n",
    "    Formuler svaret over flere linjer, med ett token per linje, og kun tokens som inngår i ett feltnavn. Hver linje skal inneholde tokenet etterfulgt av tilhørende etikett, atskilt med ett mellomrom.\n",
    "\n",
    "    Tekst: '{sentence}'\n",
    "\n",
    "    Entiteter:\n",
    "    \"\"\"\n",
    "        )\n",
    "    ]\n",
    "\n",
    "\n",
    "    try:\n",
    "        response = llm.invoke(msg)\n",
    "\n",
    "        entities = defaultdict(list) # Word-label pairs\n",
    "\n",
    "        for line in response.content.splitlines():\n",
    "            parts = line.strip().split()\n",
    "            if len(parts) == 2:\n",
    "                word, label = parts[0], parts[1]\n",
    "                entities[word].append(label)\n",
    "\n",
    "        pred_labels = []\n",
    "        word_counts = defaultdict(int)  # Track occurrences of each word\n",
    "\n",
    "        for token in tokens:\n",
    "            if token in entities and word_counts[token] < len(entities[token]):\n",
    "                pred_labels.append(entities[token][word_counts[token]])  # Get the label in order\n",
    "                word_counts[token] += 1  # Increment occurrence counter\n",
    "            else:\n",
    "                pred_labels.append(\"O\")  # Default to \"O\" if missing\n",
    "\n",
    "        # Convert labels to IDs\n",
    "        pred_ids = []\n",
    "        for label in pred_labels:\n",
    "            if label in label_to_id:\n",
    "                pred_ids.append(label_to_id[label])\n",
    "            else:\n",
    "                pred_ids.append(label_to_id.get(\"O\", -1))\n",
    "\n",
    "        true_ids = [label_to_id[label] for label in true_labels]\n",
    "\n",
    "        all_pred_ids.extend(pred_ids)\n",
    "        all_true_ids.extend(true_ids)\n",
    "\n",
    "        all_results.append({\n",
    "            'sentence': sentence,\n",
    "            'tokens': tokens,\n",
    "            'true_labels': true_labels,\n",
    "            'predicted_labels': pred_labels,\n",
    "            'generated_text': response.content\n",
    "        })   \n",
    "        \n",
    "    except Exception as e:\n",
    "        print(f\"Skipping row {idx} due to error: {e}\")\n",
    "        continue   "
   ]
  },
  {
   "cell_type": "code",
   "execution_count": 7,
   "metadata": {},
   "outputs": [
    {
     "name": "stdout",
     "output_type": "stream",
     "text": [
      "Evaluation Metrics on Val Set:\n",
      "{'precision': 0.7488901615142822, 'recall': 0.6613999009132385, 'f1': 0.695984959602356, 'span_acc': 0.751937985420227, 'classification_report': {'B-FELT': {'precision': 0.8859649122807017, 'recall': 0.7829457364341085, 'f1-score': 0.831275720164609, 'support': 129.0}, 'I-FELT': {'precision': 0.375, 'recall': 0.20689655172413793, 'f1-score': 0.26666666666666666, 'support': 29.0}, 'O': {'precision': 0.9857054070851461, 'recall': 0.9943573667711598, 'f1-score': 0.9900124843945068, 'support': 3190.0}, 'accuracy': 0.9793906810035843, 'macro avg': {'precision': 0.7488901064552825, 'recall': 0.6613998849764687, 'f1-score': 0.6959849570752609, 'support': 3348.0}, 'weighted avg': {'precision': 0.976572497695886, 'recall': 0.9793906810035843, 'f1-score': 0.9776307426681734, 'support': 3348.0}}}\n"
     ]
    }
   ],
   "source": [
    "from llm_stuff.evaluation import evaluate \n",
    "\n",
    "metrics = evaluate(all_true_ids, all_pred_ids)\n",
    "\n",
    "print(\"Evaluation Metrics on Val Set:\")\n",
    "print(metrics)\n",
    "\n",
    "final_output = {\n",
    "    'prompt': str(msg),\n",
    "    'evaluation_metrics': metrics,\n",
    "    'results': all_results\n",
    "}\n",
    "\n",
    "with open(base_dir / f\"llm_stuff/results/{config['OPENAI_DEPLOYMENT_NAME']}_FEWSHOT_5_Norwegian_FULLVALSET_BEST_SUBSET_T2.json\", 'w', encoding='utf-8') as f:\n",
    "    json.dump(final_output, f, indent=4, ensure_ascii=False)"
   ]
  }
 ],
 "metadata": {
  "kernelspec": {
   "display_name": "ml_env",
   "language": "python",
   "name": "python3"
  },
  "language_info": {
   "codemirror_mode": {
    "name": "ipython",
    "version": 3
   },
   "file_extension": ".py",
   "mimetype": "text/x-python",
   "name": "python",
   "nbconvert_exporter": "python",
   "pygments_lexer": "ipython3",
   "version": "3.12.2"
  }
 },
 "nbformat": 4,
 "nbformat_minor": 4
}
