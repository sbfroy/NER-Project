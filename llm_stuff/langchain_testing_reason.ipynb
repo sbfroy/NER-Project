{
 "cells": [
  {
   "cell_type": "code",
   "execution_count": 45,
   "metadata": {},
   "outputs": [],
   "source": [
    "import sys\n",
    "import os\n",
    "\n",
    "sys.path.append(os.path.abspath(os.path.join(os.getcwd(), \"..\")))"
   ]
  },
  {
   "cell_type": "code",
   "execution_count": 46,
   "metadata": {},
   "outputs": [],
   "source": [
    "from tqdm import tqdm\n",
    "from pathlib import Path\n",
    "from src.utils.config_loader import load_config\n",
    "\n",
    "base_dir = Path(os.getcwd()).parent\n",
    "\n",
    "config = load_config(base_dir / 'secrets.yaml')"
   ]
  },
  {
   "cell_type": "code",
   "execution_count": 47,
   "metadata": {},
   "outputs": [],
   "source": [
    "from src.data.preprocessing import create_df\n",
    "\n",
    "val_df = create_df(base_dir / 'data/my_data/regplans-dev.conllu')"
   ]
  },
  {
   "cell_type": "code",
   "execution_count": 48,
   "metadata": {},
   "outputs": [],
   "source": [
    "from langchain_openai import AzureChatOpenAI\n",
    "from langchain_core.messages import (SystemMessage, HumanMessage)\n",
    "\n",
    "os.environ['OPENAI_API_VERSION'] = config['OPENAI_API_VERSION']\n",
    "os.environ['AZURE_OPENAI_ENDPOINT'] = config['OPENAI_API_BASE']\n",
    "os.environ['AZURE_OPENAI_API_KEY'] = config['OPENAI_API_KEY']\n",
    "\n",
    "llm = AzureChatOpenAI(\n",
    "    deployment_name=config['OPENAI_DEPLOYMENT_NAME'],\n",
    "    #temperature=0.0\n",
    ")"
   ]
  },
  {
   "cell_type": "code",
   "execution_count": 49,
   "metadata": {},
   "outputs": [
    {
     "name": "stdout",
     "output_type": "stream",
     "text": [
      "Example 1:\n",
      "Sentence: \"Adkomst til BFS1 og BFS2 skal være fra Solfjellveien .\"\n",
      "Entities:\n",
      "BFS1 B-FELT\n",
      "BFS2 B-FELT\n",
      "\n",
      "Example 2:\n",
      "Sentence: \"På friområdene GF1 - GF3 tillates vanlig skjøtsel av trær og vegetasjon .\"\n",
      "Entities:\n",
      "GF1 B-FELT\n",
      "- I-FELT\n",
      "GF3 I-FELT\n",
      "\n",
      "Example 3:\n",
      "Sentence: \"Sonene med nemningane # 1 , # 2 og # 3 gjeld automatisk freda kulturminne , dyrkingsspor med id .\"\n",
      "Entities:\n",
      "# B-FELT\n",
      "1 I-FELT\n",
      "# B-FELT\n",
      "2 I-FELT\n",
      "# B-FELT\n",
      "3 I-FELT\n",
      "\n",
      "Example 4:\n",
      "Sentence: \"Areal brattere enn 1 : 3 , arealer i gul eller rød sone for henholdsvis støy ( T-1442 ) og luftkvalitet ( T-1520 ) .\"\n",
      "Entities:\n",
      "\n",
      "\n"
     ]
    }
   ],
   "source": [
    "import json\n",
    "\n",
    "def format_examples(example_subset): \n",
    "    # Formats the examples into a string for later prompt\n",
    "    formatted = []\n",
    "    for i, ex in enumerate(example_subset):\n",
    "        entity_lines = \"\\n\".join([f\"{e['word']} {e['label']}\" for e in ex[\"entities\"]])\n",
    "        formatted.append(f\"Example {i+1}:\\nSentence: \\\"{ex['sentence']}\\\"\\nEntities:\\n{entity_lines}\\n\")\n",
    "    \n",
    "    return \"\\n\".join(formatted)\n",
    "\n",
    "with open(base_dir / 'llm_stuff/prompts/examples.json', 'r') as f:\n",
    "    example_bank = json.load(f)\n",
    "\n",
    "ids = [1, 2, 4, 21]\n",
    "\n",
    "examples = [next(ex for ex in example_bank if ex[\"id\"] == id) for id in ids]\n",
    "\n",
    "formatted_examples = format_examples(examples)\n",
    "\n",
    "print(formatted_examples)"
   ]
  },
  {
   "cell_type": "code",
   "execution_count": null,
   "metadata": {},
   "outputs": [
    {
     "name": "stderr",
     "output_type": "stream",
     "text": [
      " 88%|████████▊ | 77/88 [11:25<01:09,  6.36s/it]"
     ]
    },
    {
     "name": "stdout",
     "output_type": "stream",
     "text": [
      "Skipping row 76 due to error: Error code: 400 - {'error': {'message': 'Invalid prompt: your prompt was flagged as potentially violating our usage policy. Please try again with a different prompt: https://platform.openai.com/docs/guides/reasoning#advice-on-prompting', 'type': 'invalid_request_error', 'param': None, 'code': 'invalid_prompt'}}\n"
     ]
    },
    {
     "name": "stderr",
     "output_type": "stream",
     "text": [
      "100%|██████████| 88/88 [12:51<00:00,  8.77s/it]\n"
     ]
    }
   ],
   "source": [
    "from src.utils.label_mapping_regplans import label_to_id\n",
    "from collections import defaultdict\n",
    "\n",
    "all_pred_ids = []\n",
    "all_true_ids = []\n",
    "all_results = []\n",
    "\n",
    "val_df = val_df.iloc[:int(len(val_df) * 0.25)]\n",
    "\n",
    "for idx, row in tqdm(val_df.iterrows(), total=len(val_df)):\n",
    "    sentence = row['full_text']\n",
    "    tokens = row['words']\n",
    "    true_labels = row['labels']\n",
    "\n",
    "    prompt = f\"\"\"You are an expert in Natural Language Processing. Your task is to identify Named Entities (NER) in a given text.\n",
    "            The possible Named Entities are exclusively 'B-FELT' and 'I-FELT'. The entities are defined as follows:\n",
    "\n",
    "            - B-FELT: The beginning of a field zone name.\n",
    "            - I-FELT: The continuation of a field zone name.   \n",
    "                        \n",
    "            ### Examples:\n",
    "\n",
    "            {formatted_examples}\n",
    "\n",
    "            Your task is to identify the Named Entities in the following sentence: '{sentence}'\n",
    "            \"\"\"\n",
    "    \n",
    "    msg = [HumanMessage(content=prompt)]\n",
    "\n",
    "    try:\n",
    "        response = llm.invoke(msg)\n",
    "        entities = defaultdict(list)\n",
    "\n",
    "        for line in response.content.splitlines():\n",
    "            parts = line.strip().split()\n",
    "            if len(parts) == 2:\n",
    "                word, label = parts[0], parts[1]\n",
    "                entities[word].append(label)\n",
    "\n",
    "        pred_labels = []\n",
    "        word_counts = defaultdict(int)\n",
    "\n",
    "        for token in tokens:\n",
    "            if token in entities and word_counts[token] < len(entities[token]):\n",
    "                pred_labels.append(entities[token][word_counts[token]])\n",
    "                word_counts[token] += 1\n",
    "            else:\n",
    "                pred_labels.append(\"O\")\n",
    "\n",
    "        pred_ids = [label_to_id.get(label, label_to_id.get(\"O\", -1)) for label in pred_labels]\n",
    "        true_ids = [label_to_id[label] for label in true_labels]\n",
    "\n",
    "        all_pred_ids.extend(pred_ids)\n",
    "        all_true_ids.extend(true_ids)\n",
    "\n",
    "        all_results.append({\n",
    "            'sentence': sentence,\n",
    "            'tokens': tokens,\n",
    "            'true_labels': true_labels,\n",
    "            'predicted_labels': pred_labels,\n",
    "            'generated_text': response.content\n",
    "        })\n",
    "\n",
    "    except Exception as e:\n",
    "        print(f\"Skipping row {idx} due to error: {e}\")\n",
    "        continue\n"
   ]
  },
  {
   "cell_type": "code",
   "execution_count": 51,
   "metadata": {},
   "outputs": [
    {
     "name": "stdout",
     "output_type": "stream",
     "text": [
      "Evaluation Metrics on Dev Set:\n",
      "{'precision': 0.6049709916114807, 'recall': 0.48562800884246826, 'f1': 0.4880664050579071, 'span_acc': 0.39047619700431824, 'classification_report': {'B-FELT': {'precision': 0.40350877192982454, 'recall': 0.4380952380952381, 'f1-score': 0.4200913242009132, 'support': 105.0}, 'I-FELT': {'precision': 0.5625, 'recall': 0.09183673469387756, 'f1-score': 0.15789473684210525, 'support': 98.0}, 'O': {'precision': 0.8489042675893888, 'recall': 0.9269521410579346, 'f1-score': 0.8862131246237207, 'support': 794.0}, 'accuracy': 0.7933801404212638, 'macro avg': {'precision': 0.6049710131730711, 'recall': 0.4856280379490167, 'f1-score': 0.4880663952222464, 'support': 997.0}, 'weighted avg': {'precision': 0.7738449443516612, 'recall': 0.7933801404212638, 'f1-score': 0.7655330934833064, 'support': 997.0}}}\n"
     ]
    }
   ],
   "source": [
    "from llm_stuff.evaluation import evaluate \n",
    "\n",
    "metrics = evaluate(all_true_ids, all_pred_ids)\n",
    "\n",
    "print(\"Evaluation Metrics on Dev Set:\")\n",
    "print(metrics)\n",
    "\n",
    "final_output = {\n",
    "    'prompt': str(msg),\n",
    "    'evaluation_metrics': metrics,\n",
    "    'results': all_results\n",
    "}\n",
    "\n",
    "with open(base_dir / f\"llm_stuff/results/prompt_structure_testing/{config['OPENAI_DEPLOYMENT_NAME']}_PROMPT_V4_WO_EXAMPLES.json\", 'w', encoding='utf-8') as f:\n",
    "    json.dump(final_output, f, indent=4, ensure_ascii=False)"
   ]
  }
 ],
 "metadata": {
  "kernelspec": {
   "display_name": "ml_env",
   "language": "python",
   "name": "python3"
  },
  "language_info": {
   "codemirror_mode": {
    "name": "ipython",
    "version": 3
   },
   "file_extension": ".py",
   "mimetype": "text/x-python",
   "name": "python",
   "nbconvert_exporter": "python",
   "pygments_lexer": "ipython3",
   "version": "3.12.2"
  }
 },
 "nbformat": 4,
 "nbformat_minor": 4
}
