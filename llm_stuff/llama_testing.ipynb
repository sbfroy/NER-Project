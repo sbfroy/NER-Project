{
 "cells": [
  {
   "cell_type": "code",
   "execution_count": 1,
   "id": "241e55a5-23de-4f9a-8b93-418790b65f7b",
   "metadata": {},
   "outputs": [],
   "source": [
    "import sys\n",
    "import os\n",
    "\n",
    "sys.path.append(os.path.abspath(os.path.join(os.getcwd(), \"..\")))"
   ]
  },
  {
   "cell_type": "code",
   "execution_count": 2,
   "id": "97a4a77b-0ca0-4482-b6c8-94f430067670",
   "metadata": {},
   "outputs": [],
   "source": [
    "from pathlib import Path\n",
    "from src.utils.config_loader import load_config\n",
    "from src.utils.seed import seed_everything\n",
    "\n",
    "base_dir = Path(os.getcwd()).parent\n",
    "\n",
    "config = load_config(base_dir / 'model_params.yaml')\n",
    "\n",
    "seed_everything(config['general']['seed'])"
   ]
  },
  {
   "cell_type": "code",
   "execution_count": 3,
   "id": "9a662705-1152-4a9e-937d-73bd9028c737",
   "metadata": {},
   "outputs": [
    {
     "name": "stdout",
     "output_type": "stream",
     "text": [
      "Example 1:\n",
      "Text: \"Adkomst til BFS1 og BFS2 skal være fra Solfjellveien .\"\n",
      "Entities:\n",
      "BFS1 B-FELT\n",
      "BFS2 B-FELT\n",
      "##\n",
      "\n",
      "Example 2:\n",
      "Text: \"Parkeringsplassar ( SPP ) Grøntstruktur , jf . PBL § 12-5 , 2 . ledd nr . 3 - Turveg ( GT )\"\n",
      "Entities:\n",
      "SPP B-FELT\n",
      "GT B-FELT\n",
      "##\n",
      "\n",
      "Example 3:\n",
      "Text: \"Før det vert gjeve mellombels bruksløyve / ferdigattest for ny bueining innanfor felt BKS1 og BFS14 og 15\"\n",
      "Entities:\n",
      "BKS1 B-FELT\n",
      "BFS14 B-FELT\n",
      "og I-FELT\n",
      "15 I-FELT\n",
      "##\n",
      "\n",
      "Example 4:\n",
      "Text: \"Bebyggelsestype Innenfor BKS1-BKS6 og BFS2 skal det oppføres flermannsboliger , kjedeboliger og / eller rekkehus .\"\n",
      "Entities:\n",
      "BKS1-BKS6 B-FELT\n",
      "BFS2 B-FELT\n",
      "##\n",
      "\n",
      "Example 5:\n",
      "Text: \"Areal brattere enn 1 : 3 , arealer i gul eller rød sone for henholdsvis støy ( T-1442 ) og luftkvalitet ( T-1520 ) .\"\n",
      "Entities:\n",
      "\n",
      "##\n",
      "\n"
     ]
    }
   ],
   "source": [
    "import json\n",
    "import random\n",
    "\n",
    "def format_examples(example_subset): \n",
    "    # Formats the examples into a string for later prompt\n",
    "    formatted = []\n",
    "    for i, ex in enumerate(example_subset):\n",
    "        entity_lines = \"\\n\".join([f\"{e['word']} {e['label']}\" for e in ex[\"entities\"]])\n",
    "        formatted.append(f\"Example {i+1}:\\nText: \\\"{ex['sentence']}\\\"\\nEntities:\\n{entity_lines}\\n##\\n\")\n",
    "    \n",
    "    return \"\\n\".join(formatted)\n",
    "\n",
    "with open(base_dir / 'llm_stuff/prompts/examples.json', 'r') as f:\n",
    "    example_bank = json.load(f)\n",
    "\n",
    "ids = [1, 19, 16, 3, 21]\n",
    "\n",
    "#ids = random.sample(range(1, 26), 3)\n",
    "\n",
    "examples = [next(ex for ex in example_bank if ex[\"id\"] == id) for id in ids]\n",
    "\n",
    "formatted_examples = format_examples(examples)\n",
    "\n",
    "print(formatted_examples)"
   ]
  },
  {
   "cell_type": "code",
   "execution_count": null,
   "id": "045a530b-7eaf-4821-8200-f2241a22f72c",
   "metadata": {},
   "outputs": [],
   "source": [
    "import torch\n",
    "import transformers\n",
    "from collections import defaultdict\n",
    "from src.utils.label_mapping_regplans import id_to_label, label_to_id\n",
    "\n",
    "class LlamaForNER:\n",
    "    def __init__(self, model_path: str):\n",
    "        self.model_id = model_path\n",
    "        self.pipeline = transformers.pipeline(\n",
    "            'text-generation',\n",
    "            model=self.model_id,\n",
    "            model_kwargs={'torch_dtype': torch.float16} # FP16 for faster inference\n",
    "        )\n",
    "        tokenizer = self.pipeline.tokenizer\n",
    "        tokenizer.pad_token_id = tokenizer.eos_token_id \n",
    "\n",
    "        self.terminators = tokenizer.eos_token_id\n",
    "  \n",
    "    def format_prompt(self, sentence):\n",
    "        prompt = f\"\"\"\n",
    "            You are an expert in Named Entity Recognition (NER). Your task is to identify named entities that represent field zone names in the given text.\n",
    "    \n",
    "            The possible named entities are exclusively B-FELT (beginning of a field zone name) and I-FELT (continuation of the same field zone name).\n",
    "\n",
    "            {formatted_examples}\n",
    "\n",
    "            Each token must be written only once.  \n",
    "            Each token should be written on a separate line.  \n",
    "            Each line must consist of the token followed by its label.  \n",
    "            Separate the token and its label with a single space.  \n",
    "            Do not include any explanations, comments, or Python code.  \n",
    "                     \n",
    "            Text: '{sentence}'\n",
    "    \n",
    "            Entities:\n",
    "        \"\"\"\n",
    "        return prompt\n",
    "\n",
    "    def predict_ner(self, sentence, tokens, max_tokens=50, temperature=0.0, top_p=0.9):\n",
    "\n",
    "        prompt = self.format_prompt(sentence) \n",
    "\n",
    "        outputs = self.pipeline(\n",
    "            prompt,\n",
    "            max_new_tokens=max_tokens,\n",
    "            eos_token_id=self.terminators,\n",
    "            pad_token_id=self.terminators,\n",
    "            do_sample=False, # True could be useful\n",
    "            temperature=temperature, # lower = more deterministic\n",
    "            top_p=top_p \n",
    "        )\n",
    "        \n",
    "        generated_text = outputs[0]['generated_text'][len(prompt):].strip()\n",
    "        pred_labels = self.extract_entities(generated_text, tokens)\n",
    "        \n",
    "        return {\n",
    "            'tokens': tokens,\n",
    "            'pred_labels': pred_labels,\n",
    "            'generated_text': generated_text\n",
    "        }\n",
    "\n",
    "    def extract_entities(self, output_text, tokens):\n",
    "\n",
    "        entities = defaultdict(list) # Word-label pairs\n",
    "\n",
    "        for line in output_text.splitlines():\n",
    "            parts = line.strip().split()\n",
    "            if len(parts) == 2:\n",
    "                word, label = parts[0], parts[1]\n",
    "                entities[word].append(label)\n",
    "\n",
    "        pred_labels = []\n",
    "        word_counts = defaultdict(int)  # Track occurrences of each word\n",
    "    \n",
    "        for token in tokens:\n",
    "            if token in entities and word_counts[token] < len(entities[token]):\n",
    "                pred_labels.append(entities[token][word_counts[token]])  # Get the label in order\n",
    "                word_counts[token] += 1  # Increment occurrence counter\n",
    "            else:\n",
    "                pred_labels.append(\"O\")  # Default to \"O\" if missing\n",
    "        \n",
    "        return pred_labels "
   ]
  },
  {
   "cell_type": "code",
   "execution_count": 5,
   "id": "4f600b36-af66-48e6-b2e8-5a7584ce6b53",
   "metadata": {},
   "outputs": [
    {
     "data": {
      "application/vnd.jupyter.widget-view+json": {
       "model_id": "039f0b4bd8f243b0820bac128bfdc039",
       "version_major": 2,
       "version_minor": 0
      },
      "text/plain": [
       "Loading checkpoint shards:   0%|          | 0/4 [00:00<?, ?it/s]"
      ]
     },
     "metadata": {},
     "output_type": "display_data"
    },
    {
     "name": "stderr",
     "output_type": "stream",
     "text": [
      "Device set to use cuda:0\n",
      "  0%|          | 0/176 [00:00<?, ?it/s]/opt/conda/lib/python3.11/site-packages/transformers/generation/configuration_utils.py:628: UserWarning: `do_sample` is set to `False`. However, `temperature` is set to `0.0` -- this flag is only used in sample-based generation modes. You should set `do_sample=True` or unset `temperature`.\n",
      "  warnings.warn(\n",
      "/opt/conda/lib/python3.11/site-packages/transformers/generation/configuration_utils.py:633: UserWarning: `do_sample` is set to `False`. However, `top_p` is set to `0.9` -- this flag is only used in sample-based generation modes. You should set `do_sample=True` or unset `top_p`.\n",
      "  warnings.warn(\n",
      "  6%|▌         | 10/176 [00:15<04:10,  1.51s/it]You seem to be using the pipelines sequentially on GPU. In order to maximize efficiency please use a dataset\n",
      "  7%|▋         | 12/176 [00:18<04:06,  1.50s/it]"
     ]
    },
    {
     "name": "stdout",
     "output_type": "stream",
     "text": [
      "Warning: Unexpected label 'B-O' found. Assigning default label 'O'.\n",
      "Warning: Unexpected label 'I-O' found. Assigning default label 'O'.\n"
     ]
    },
    {
     "name": "stderr",
     "output_type": "stream",
     "text": [
      "  9%|▊         | 15/176 [00:22<04:01,  1.50s/it]"
     ]
    },
    {
     "name": "stdout",
     "output_type": "stream",
     "text": [
      "Warning: Unexpected label 'I' found. Assigning default label 'O'.\n"
     ]
    },
    {
     "name": "stderr",
     "output_type": "stream",
     "text": [
      " 11%|█▏        | 20/176 [00:30<03:54,  1.50s/it]"
     ]
    },
    {
     "name": "stdout",
     "output_type": "stream",
     "text": [
      "Warning: Unexpected label 'SVT' found. Assigning default label 'O'.\n"
     ]
    },
    {
     "name": "stderr",
     "output_type": "stream",
     "text": [
      " 12%|█▏        | 21/176 [00:31<03:52,  1.50s/it]"
     ]
    },
    {
     "name": "stdout",
     "output_type": "stream",
     "text": [
      "Warning: Unexpected label 'småhusbebyggelse' found. Assigning default label 'O'.\n"
     ]
    },
    {
     "name": "stderr",
     "output_type": "stream",
     "text": [
      " 15%|█▌        | 27/176 [00:40<03:43,  1.50s/it]"
     ]
    },
    {
     "name": "stdout",
     "output_type": "stream",
     "text": [
      "Warning: Unexpected label '8.2' found. Assigning default label 'O'.\n"
     ]
    },
    {
     "name": "stderr",
     "output_type": "stream",
     "text": [
      " 20%|█▉        | 35/176 [00:53<03:31,  1.50s/it]"
     ]
    },
    {
     "name": "stdout",
     "output_type": "stream",
     "text": [
      "Warning: Unexpected label 'torv' found. Assigning default label 'O'.\n"
     ]
    },
    {
     "name": "stderr",
     "output_type": "stream",
     "text": [
      " 20%|██        | 36/176 [00:54<03:30,  1.50s/it]"
     ]
    },
    {
     "name": "stdout",
     "output_type": "stream",
     "text": [
      "Warning: Unexpected label 'Omsynssone' found. Assigning default label 'O'.\n"
     ]
    },
    {
     "name": "stderr",
     "output_type": "stream",
     "text": [
      " 23%|██▎       | 41/176 [01:02<03:22,  1.50s/it]"
     ]
    },
    {
     "name": "stdout",
     "output_type": "stream",
     "text": [
      "Warning: Unexpected label 'GS' found. Assigning default label 'O'.\n"
     ]
    },
    {
     "name": "stderr",
     "output_type": "stream",
     "text": [
      " 24%|██▍       | 43/176 [01:05<03:19,  1.50s/it]"
     ]
    },
    {
     "name": "stdout",
     "output_type": "stream",
     "text": [
      "Warning: Unexpected label '1' found. Assigning default label 'O'.\n",
      "Warning: Unexpected label '2' found. Assigning default label 'O'.\n"
     ]
    },
    {
     "name": "stderr",
     "output_type": "stream",
     "text": [
      " 25%|██▌       | 44/176 [01:06<03:18,  1.50s/it]"
     ]
    },
    {
     "name": "stdout",
     "output_type": "stream",
     "text": [
      "Warning: Unexpected label 'I-PUNCT' found. Assigning default label 'O'.\n"
     ]
    },
    {
     "name": "stderr",
     "output_type": "stream",
     "text": [
      " 27%|██▋       | 48/176 [01:12<03:12,  1.51s/it]"
     ]
    },
    {
     "name": "stdout",
     "output_type": "stream",
     "text": [
      "Warning: Unexpected label 'naturmiljø' found. Assigning default label 'O'.\n"
     ]
    },
    {
     "name": "stderr",
     "output_type": "stream",
     "text": [
      " 30%|██▉       | 52/176 [01:18<03:06,  1.50s/it]"
     ]
    },
    {
     "name": "stdout",
     "output_type": "stream",
     "text": [
      "Warning: Unexpected label 'einebustad' found. Assigning default label 'O'.\n"
     ]
    },
    {
     "name": "stderr",
     "output_type": "stream",
     "text": [
      " 31%|███       | 54/176 [01:21<02:55,  1.44s/it]"
     ]
    },
    {
     "name": "stdout",
     "output_type": "stream",
     "text": [
      "Warning: Unexpected label 'Bustader' found. Assigning default label 'O'.\n"
     ]
    },
    {
     "name": "stderr",
     "output_type": "stream",
     "text": [
      " 35%|███▍      | 61/176 [01:31<02:52,  1.50s/it]"
     ]
    },
    {
     "name": "stdout",
     "output_type": "stream",
     "text": [
      "Warning: Unexpected label 'I-O' found. Assigning default label 'O'.\n"
     ]
    },
    {
     "name": "stderr",
     "output_type": "stream",
     "text": [
      " 36%|███▋      | 64/176 [01:36<02:47,  1.50s/it]"
     ]
    },
    {
     "name": "stdout",
     "output_type": "stream",
     "text": [
      "Warning: Unexpected label 'I-O' found. Assigning default label 'O'.\n"
     ]
    },
    {
     "name": "stderr",
     "output_type": "stream",
     "text": [
      " 42%|████▏     | 74/176 [01:51<02:33,  1.50s/it]"
     ]
    },
    {
     "name": "stdout",
     "output_type": "stream",
     "text": [
      "Warning: Unexpected label 'B' found. Assigning default label 'O'.\n"
     ]
    },
    {
     "name": "stderr",
     "output_type": "stream",
     "text": [
      " 44%|████▍     | 78/176 [01:57<02:27,  1.51s/it]"
     ]
    },
    {
     "name": "stdout",
     "output_type": "stream",
     "text": [
      "Warning: Unexpected label 'B-O' found. Assigning default label 'O'.\n"
     ]
    },
    {
     "name": "stderr",
     "output_type": "stream",
     "text": [
      " 52%|█████▏    | 92/176 [02:17<01:56,  1.39s/it]"
     ]
    },
    {
     "name": "stdout",
     "output_type": "stream",
     "text": [
      "Warning: Unexpected label '12-7' found. Assigning default label 'O'.\n"
     ]
    },
    {
     "name": "stderr",
     "output_type": "stream",
     "text": [
      " 59%|█████▊    | 103/176 [02:34<01:50,  1.51s/it]"
     ]
    },
    {
     "name": "stdout",
     "output_type": "stream",
     "text": [
      "Warning: Unexpected label '5.6' found. Assigning default label 'O'.\n"
     ]
    },
    {
     "name": "stderr",
     "output_type": "stream",
     "text": [
      " 60%|█████▉    | 105/176 [02:37<01:47,  1.51s/it]"
     ]
    },
    {
     "name": "stdout",
     "output_type": "stream",
     "text": [
      "Warning: Unexpected label 'B-FEL' found. Assigning default label 'O'.\n"
     ]
    },
    {
     "name": "stderr",
     "output_type": "stream",
     "text": [
      " 63%|██████▎   | 111/176 [02:46<01:38,  1.51s/it]"
     ]
    },
    {
     "name": "stdout",
     "output_type": "stream",
     "text": [
      "Warning: Unexpected label 'I-FEL' found. Assigning default label 'O'.\n"
     ]
    },
    {
     "name": "stderr",
     "output_type": "stream",
     "text": [
      " 64%|██████▎   | 112/176 [02:47<01:36,  1.51s/it]"
     ]
    },
    {
     "name": "stdout",
     "output_type": "stream",
     "text": [
      "Warning: Unexpected label 'I-F' found. Assigning default label 'O'.\n"
     ]
    },
    {
     "name": "stderr",
     "output_type": "stream",
     "text": [
      " 65%|██████▍   | 114/176 [02:50<01:33,  1.51s/it]"
     ]
    },
    {
     "name": "stdout",
     "output_type": "stream",
     "text": [
      "Warning: Unexpected label 'veggrunn' found. Assigning default label 'O'.\n"
     ]
    },
    {
     "name": "stderr",
     "output_type": "stream",
     "text": [
      " 66%|██████▋   | 117/176 [02:55<01:29,  1.51s/it]"
     ]
    },
    {
     "name": "stdout",
     "output_type": "stream",
     "text": [
      "Warning: Unexpected label 'A' found. Assigning default label 'O'.\n"
     ]
    },
    {
     "name": "stderr",
     "output_type": "stream",
     "text": [
      " 73%|███████▎  | 128/176 [03:12<01:12,  1.51s/it]"
     ]
    },
    {
     "name": "stdout",
     "output_type": "stream",
     "text": [
      "Warning: Unexpected label 'I-F' found. Assigning default label 'O'.\n"
     ]
    },
    {
     "name": "stderr",
     "output_type": "stream",
     "text": [
      " 74%|███████▍  | 131/176 [03:16<01:08,  1.51s/it]"
     ]
    },
    {
     "name": "stdout",
     "output_type": "stream",
     "text": [
      "Warning: Unexpected label 'I-FEL' found. Assigning default label 'O'.\n"
     ]
    },
    {
     "name": "stderr",
     "output_type": "stream",
     "text": [
      " 77%|███████▋  | 135/176 [03:22<01:01,  1.51s/it]"
     ]
    },
    {
     "name": "stdout",
     "output_type": "stream",
     "text": [
      "Warning: Unexpected label 'm.' found. Assigning default label 'O'.\n"
     ]
    },
    {
     "name": "stderr",
     "output_type": "stream",
     "text": [
      " 81%|████████  | 142/176 [03:33<00:51,  1.52s/it]"
     ]
    },
    {
     "name": "stdout",
     "output_type": "stream",
     "text": [
      "Warning: Unexpected label 'fylkesk' found. Assigning default label 'O'.\n"
     ]
    },
    {
     "name": "stderr",
     "output_type": "stream",
     "text": [
      " 86%|████████▋ | 152/176 [03:48<00:36,  1.50s/it]"
     ]
    },
    {
     "name": "stdout",
     "output_type": "stream",
     "text": [
      "Warning: Unexpected label 'I' found. Assigning default label 'O'.\n"
     ]
    },
    {
     "name": "stderr",
     "output_type": "stream",
     "text": [
      " 89%|████████▊ | 156/176 [03:54<00:30,  1.50s/it]"
     ]
    },
    {
     "name": "stdout",
     "output_type": "stream",
     "text": [
      "Warning: Unexpected label 'I-FEL' found. Assigning default label 'O'.\n"
     ]
    },
    {
     "name": "stderr",
     "output_type": "stream",
     "text": [
      " 93%|█████████▎| 163/176 [04:04<00:19,  1.50s/it]"
     ]
    },
    {
     "name": "stdout",
     "output_type": "stream",
     "text": [
      "Warning: Unexpected label 'I' found. Assigning default label 'O'.\n"
     ]
    },
    {
     "name": "stderr",
     "output_type": "stream",
     "text": [
      " 93%|█████████▎| 164/176 [04:06<00:18,  1.50s/it]"
     ]
    },
    {
     "name": "stdout",
     "output_type": "stream",
     "text": [
      "Warning: Unexpected label 'I-F' found. Assigning default label 'O'.\n"
     ]
    },
    {
     "name": "stderr",
     "output_type": "stream",
     "text": [
      " 95%|█████████▍| 167/176 [04:10<00:13,  1.51s/it]"
     ]
    },
    {
     "name": "stdout",
     "output_type": "stream",
     "text": [
      "Warning: Unexpected label 'veg' found. Assigning default label 'O'.\n"
     ]
    },
    {
     "name": "stderr",
     "output_type": "stream",
     "text": [
      " 96%|█████████▌| 169/176 [04:13<00:10,  1.50s/it]"
     ]
    },
    {
     "name": "stdout",
     "output_type": "stream",
     "text": [
      "Warning: Unexpected label 'planformål,' found. Assigning default label 'O'.\n"
     ]
    },
    {
     "name": "stderr",
     "output_type": "stream",
     "text": [
      "100%|██████████| 176/176 [04:24<00:00,  1.50s/it]"
     ]
    },
    {
     "name": "stdout",
     "output_type": "stream",
     "text": [
      "Evaluation Metrics on Dev Set:\n",
      "{'precision': 0.47055530548095703, 'recall': 0.4161546230316162, 'f1': 0.4141826629638672, 'span_acc': 0.20121951401233673, 'classification_report': {'B-FELT': {'precision': 0.38596491228070173, 'recall': 0.2682926829268293, 'f1-score': 0.3165467625899281, 'support': 164.0}, 'I-FELT': {'precision': 0.1875, 'recall': 0.015789473684210527, 'f1-score': 0.02912621359223301, 'support': 190.0}, 'O': {'precision': 0.8382009345794392, 'recall': 0.9643817204301075, 'f1-score': 0.896875, 'support': 1488.0}, 'accuracy': 0.8045602605863192, 'macro avg': {'precision': 0.4705552822867136, 'recall': 0.4161546256803825, 'f1-score': 0.41418265872738697, 'support': 1842.0}, 'weighted avg': {'precision': 0.7308177178437789, 'recall': 0.8045602605863192, 'f1-score': 0.7556990497542196, 'support': 1842.0}}}\n"
     ]
    },
    {
     "name": "stderr",
     "output_type": "stream",
     "text": [
      "\n"
     ]
    }
   ],
   "source": [
    "from src.data.preprocessing import create_df\n",
    "from llm_stuff.evaluation import evaluate \n",
    "from tqdm import tqdm\n",
    "import json\n",
    "\n",
    "val_df = create_df(base_dir / 'data/my_data/regplans-dev.conllu')\n",
    "val_df = val_df.iloc[:int(len(val_df) * 0.5)] # Use only half the data for testing\n",
    "\n",
    "model_path = 'meta-llama/Meta-Llama-3-8B-Instruct' \n",
    "ner_model = LlamaForNER(model_path)\n",
    "\n",
    "all_pred_ids = []\n",
    "all_true_ids = []\n",
    "\n",
    "all_results = []\n",
    "\n",
    "for idx, row in tqdm(val_df.iterrows(), total=len(val_df)):\n",
    "    sentence = row['full_text']\n",
    "    tokens = row['words']\n",
    "    true_labels = row['labels']  \n",
    "\n",
    "    output = ner_model.predict_ner(sentence, tokens)\n",
    "    pred_labels = output['pred_labels']\n",
    "\n",
    "    pred_ids = []\n",
    "    for label in pred_labels:\n",
    "        if label in label_to_id:  \n",
    "            pred_ids.append(label_to_id[label])\n",
    "        else:\n",
    "            print(f\"Warning: Unexpected label '{label}' found. Assigning default label 'O'.\")\n",
    "            pred_ids.append(label_to_id.get(\"O\", -1))\n",
    "\n",
    "    true_ids = [label_to_id[label] for label in true_labels]\n",
    "\n",
    "    all_pred_ids.extend(pred_ids)\n",
    "    all_true_ids.extend(true_ids)\n",
    "\n",
    "    all_results.append({\n",
    "        'sentence': sentence,\n",
    "        'tokens': tokens,\n",
    "        'true_labels': true_labels,\n",
    "        'predicted_labels': pred_labels,\n",
    "        'generated_text': output['generated_text']\n",
    "    })\n",
    "\n",
    "    #print(f\"Sentence: {sentence}\")\n",
    "    #print(f\"Predicted Labels: {pred_labels}\")\n",
    "    #print(f\"True Labels: {true_labels}\")\n",
    "\n",
    "# Calculate evaluation metrics across all tokens in the dev set.\n",
    "metrics = evaluate(all_true_ids, all_pred_ids)\n",
    "\n",
    "print(\"Evaluation Metrics on Dev Set:\")\n",
    "print(metrics)\n",
    "\n",
    "final_output = {\n",
    "    'prompt': ner_model.format_prompt(''),\n",
    "    'evaluation_metrics': metrics,\n",
    "    'results': all_results\n",
    "}\n",
    "\n",
    "with open(base_dir / f'llm_stuff/results/Meta-Llama-3-8B-Instruct_ZEROSHOT.json', 'w', encoding='utf-8') as f:\n",
    "    json.dump(final_output, f, indent=4, ensure_ascii=False)"
   ]
  },
  {
   "cell_type": "code",
   "execution_count": null,
   "id": "219dc310-c129-479e-b872-dff88e1efa29",
   "metadata": {},
   "outputs": [],
   "source": []
  }
 ],
 "metadata": {
  "kernelspec": {
   "display_name": "ml_env",
   "language": "python",
   "name": "python3"
  },
  "language_info": {
   "codemirror_mode": {
    "name": "ipython",
    "version": 3
   },
   "file_extension": ".py",
   "mimetype": "text/x-python",
   "name": "python",
   "nbconvert_exporter": "python",
   "pygments_lexer": "ipython3",
   "version": "3.12.2"
  }
 },
 "nbformat": 4,
 "nbformat_minor": 5
}
