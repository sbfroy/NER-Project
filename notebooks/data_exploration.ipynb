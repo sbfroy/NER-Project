{
 "cells": [
  {
   "cell_type": "code",
   "execution_count": 1,
   "metadata": {},
   "outputs": [],
   "source": [
    "import os\n",
    "from pathlib import Path\n",
    "\n",
    "base_dir = Path(os.getcwd()).parent"
   ]
  },
  {
   "cell_type": "code",
   "execution_count": 2,
   "metadata": {},
   "outputs": [
    {
     "data": {
      "text/html": [
       "<div>\n",
       "<style scoped>\n",
       "    .dataframe tbody tr th:only-of-type {\n",
       "        vertical-align: middle;\n",
       "    }\n",
       "\n",
       "    .dataframe tbody tr th {\n",
       "        vertical-align: top;\n",
       "    }\n",
       "\n",
       "    .dataframe thead th {\n",
       "        text-align: right;\n",
       "    }\n",
       "</style>\n",
       "<table border=\"1\" class=\"dataframe\">\n",
       "  <thead>\n",
       "    <tr style=\"text-align: right;\">\n",
       "      <th></th>\n",
       "      <th>words</th>\n",
       "      <th>labels</th>\n",
       "    </tr>\n",
       "  </thead>\n",
       "  <tbody>\n",
       "    <tr>\n",
       "      <th>0</th>\n",
       "      <td>[Dommer, Finn, Eilertsen, avstår, ,, selvfølge...</td>\n",
       "      <td>[O, B-PER, I-PER, O, O, O, O, O, O, O, O, O, O...</td>\n",
       "    </tr>\n",
       "    <tr>\n",
       "      <th>1</th>\n",
       "      <td>[Dommeren, lar, gjerningsbeskrivelsen, tale, f...</td>\n",
       "      <td>[O, O, O, O, O, O, O, O, O, O, O, O, O, O, O, ...</td>\n",
       "    </tr>\n",
       "    <tr>\n",
       "      <th>2</th>\n",
       "      <td>[Den, ene, av, de, to, meddommere, ,, Espen, T...</td>\n",
       "      <td>[O, O, O, O, O, O, O, B-PER, I-PER, O, O, O, O...</td>\n",
       "    </tr>\n",
       "    <tr>\n",
       "      <th>3</th>\n",
       "      <td>[Dette, uaktet, at, også, han, selv, har, unde...</td>\n",
       "      <td>[O, O, O, O, O, O, O, O, O, O]</td>\n",
       "    </tr>\n",
       "    <tr>\n",
       "      <th>4</th>\n",
       "      <td>[Allerede, søndag, 11., oktober, ser, vi, i, A...</td>\n",
       "      <td>[O, O, O, O, O, O, O, B-PROD, B-PER, I-PER, O,...</td>\n",
       "    </tr>\n",
       "    <tr>\n",
       "      <th>...</th>\n",
       "      <td>...</td>\n",
       "      <td>...</td>\n",
       "    </tr>\n",
       "    <tr>\n",
       "      <th>2405</th>\n",
       "      <td>[Riggen, skal, stå, på, pilarer, ,, halvannen,...</td>\n",
       "      <td>[O, O, O, O, O, O, O, O, O, O, O, O, O, O, O, ...</td>\n",
       "    </tr>\n",
       "    <tr>\n",
       "      <th>2406</th>\n",
       "      <td>[Stasjonen, består, av, tre, spesialkonstruert...</td>\n",
       "      <td>[O, O, O, O, O, O, O, O, O, O, O, O, O, O, O, ...</td>\n",
       "    </tr>\n",
       "    <tr>\n",
       "      <th>2407</th>\n",
       "      <td>[Den, har, plass, til, seks, forskere, ,, og, ...</td>\n",
       "      <td>[O, O, O, O, O, O, O, O, O, O, O, O, O, O, O, ...</td>\n",
       "    </tr>\n",
       "    <tr>\n",
       "      <th>2408</th>\n",
       "      <td>[Fire, vindmøller, sørger, for, strøm, .]</td>\n",
       "      <td>[O, O, O, O, O, O]</td>\n",
       "    </tr>\n",
       "    <tr>\n",
       "      <th>2409</th>\n",
       "      <td>[Om, et, år, skal, stasjonen, fraktes, til, Bo...</td>\n",
       "      <td>[O, O, O, O, O, O, O, B-LOC, O, O, O]</td>\n",
       "    </tr>\n",
       "  </tbody>\n",
       "</table>\n",
       "<p>2410 rows × 2 columns</p>\n",
       "</div>"
      ],
      "text/plain": [
       "                                                  words  \\\n",
       "0     [Dommer, Finn, Eilertsen, avstår, ,, selvfølge...   \n",
       "1     [Dommeren, lar, gjerningsbeskrivelsen, tale, f...   \n",
       "2     [Den, ene, av, de, to, meddommere, ,, Espen, T...   \n",
       "3     [Dette, uaktet, at, også, han, selv, har, unde...   \n",
       "4     [Allerede, søndag, 11., oktober, ser, vi, i, A...   \n",
       "...                                                 ...   \n",
       "2405  [Riggen, skal, stå, på, pilarer, ,, halvannen,...   \n",
       "2406  [Stasjonen, består, av, tre, spesialkonstruert...   \n",
       "2407  [Den, har, plass, til, seks, forskere, ,, og, ...   \n",
       "2408          [Fire, vindmøller, sørger, for, strøm, .]   \n",
       "2409  [Om, et, år, skal, stasjonen, fraktes, til, Bo...   \n",
       "\n",
       "                                                 labels  \n",
       "0     [O, B-PER, I-PER, O, O, O, O, O, O, O, O, O, O...  \n",
       "1     [O, O, O, O, O, O, O, O, O, O, O, O, O, O, O, ...  \n",
       "2     [O, O, O, O, O, O, O, B-PER, I-PER, O, O, O, O...  \n",
       "3                        [O, O, O, O, O, O, O, O, O, O]  \n",
       "4     [O, O, O, O, O, O, O, B-PROD, B-PER, I-PER, O,...  \n",
       "...                                                 ...  \n",
       "2405  [O, O, O, O, O, O, O, O, O, O, O, O, O, O, O, ...  \n",
       "2406  [O, O, O, O, O, O, O, O, O, O, O, O, O, O, O, ...  \n",
       "2407  [O, O, O, O, O, O, O, O, O, O, O, O, O, O, O, ...  \n",
       "2408                                 [O, O, O, O, O, O]  \n",
       "2409              [O, O, O, O, O, O, O, B-LOC, O, O, O]  \n",
       "\n",
       "[2410 rows x 2 columns]"
      ]
     },
     "execution_count": 2,
     "metadata": {},
     "output_type": "execute_result"
    }
   ],
   "source": [
    "from transformers import AutoTokenizer\n",
    "from src.utils.config_loader import load_config\n",
    "from src.data.preprocessing import create_df\n",
    "from src.data.dataset import Dataset\n",
    "\n",
    "config = load_config(base_dir / 'model_params.yaml')\n",
    "\n",
    "tokenizer = AutoTokenizer.from_pretrained(config['model']['model_name'])\n",
    "\n",
    "data_df = create_df(base_dir / 'data/norne/ud/nob/no_bokmaal-ud-dev.conllu')\n",
    "\n",
    "data_df"
   ]
  },
  {
   "cell_type": "code",
   "execution_count": 3,
   "metadata": {},
   "outputs": [
    {
     "data": {
      "text/plain": [
       "42"
      ]
     },
     "execution_count": 3,
     "metadata": {},
     "output_type": "execute_result"
    }
   ],
   "source": [
    "import pandas as pd\n",
    "import numpy as np\n",
    "\n",
    "tokenized_lengths = []\n",
    "\n",
    "for sentence in data_df['words']:  \n",
    "    length = len(\n",
    "        tokenizer.encode(\n",
    "        sentence, \n",
    "        is_split_into_words=True, \n",
    "        add_special_tokens=True\n",
    "        )\n",
    "    )\n",
    "    tokenized_lengths.append(length)\n",
    "\n",
    "p_95 = int(np.percentile(tokenized_lengths, 95)) # 95th percentile\n",
    "\n",
    "p_95"
   ]
  },
  {
   "cell_type": "code",
   "execution_count": 4,
   "metadata": {},
   "outputs": [
    {
     "data": {
      "text/html": [
       "<div>\n",
       "<style scoped>\n",
       "    .dataframe tbody tr th:only-of-type {\n",
       "        vertical-align: middle;\n",
       "    }\n",
       "\n",
       "    .dataframe tbody tr th {\n",
       "        vertical-align: top;\n",
       "    }\n",
       "\n",
       "    .dataframe thead th {\n",
       "        text-align: right;\n",
       "    }\n",
       "</style>\n",
       "<table border=\"1\" class=\"dataframe\">\n",
       "  <thead>\n",
       "    <tr style=\"text-align: right;\">\n",
       "      <th></th>\n",
       "      <th>0</th>\n",
       "    </tr>\n",
       "  </thead>\n",
       "  <tbody>\n",
       "    <tr>\n",
       "      <th>count</th>\n",
       "      <td>2410.000000</td>\n",
       "    </tr>\n",
       "    <tr>\n",
       "      <th>mean</th>\n",
       "      <td>19.297095</td>\n",
       "    </tr>\n",
       "    <tr>\n",
       "      <th>std</th>\n",
       "      <td>11.361147</td>\n",
       "    </tr>\n",
       "    <tr>\n",
       "      <th>min</th>\n",
       "      <td>3.000000</td>\n",
       "    </tr>\n",
       "    <tr>\n",
       "      <th>25%</th>\n",
       "      <td>11.000000</td>\n",
       "    </tr>\n",
       "    <tr>\n",
       "      <th>50%</th>\n",
       "      <td>17.000000</td>\n",
       "    </tr>\n",
       "    <tr>\n",
       "      <th>75%</th>\n",
       "      <td>25.000000</td>\n",
       "    </tr>\n",
       "    <tr>\n",
       "      <th>max</th>\n",
       "      <td>102.000000</td>\n",
       "    </tr>\n",
       "  </tbody>\n",
       "</table>\n",
       "</div>"
      ],
      "text/plain": [
       "                 0\n",
       "count  2410.000000\n",
       "mean     19.297095\n",
       "std      11.361147\n",
       "min       3.000000\n",
       "25%      11.000000\n",
       "50%      17.000000\n",
       "75%      25.000000\n",
       "max     102.000000"
      ]
     },
     "execution_count": 4,
     "metadata": {},
     "output_type": "execute_result"
    }
   ],
   "source": [
    "df = pd.DataFrame(tokenized_lengths)\n",
    "\n",
    "df.describe()"
   ]
  },
  {
   "cell_type": "code",
   "execution_count": 5,
   "metadata": {},
   "outputs": [
    {
     "data": {
      "image/png": "[encoded data removed]",
      "text/plain": [
       "<Figure size 640x480 with 1 Axes>"
      ]
     },
     "metadata": {},
     "output_type": "display_data"
    }
   ],
   "source": [
    "import matplotlib.pyplot as plt\n",
    "\n",
    "plt.hist(df, bins=30)\n",
    "plt.show()"
   ]
  },
  {
   "cell_type": "code",
   "execution_count": 6,
   "metadata": {},
   "outputs": [
    {
     "data": {
      "text/plain": [
       "O            33992\n",
       "B-PER          611\n",
       "B-ORG          404\n",
       "I-PER          309\n",
       "B-GPE_LOC      259\n",
       "B-PROD         162\n",
       "I-PROD         154\n",
       "B-LOC          109\n",
       "I-ORG           85\n",
       "B-DRV           79\n",
       "I-GPE_LOC       66\n",
       "B-GPE_ORG       55\n",
       "I-DRV           35\n",
       "I-LOC           34\n",
       "B-EVT            9\n",
       "I-EVT            4\n",
       "I-GPE_ORG        2\n",
       "Name: count, dtype: int64"
      ]
     },
     "execution_count": 6,
     "metadata": {},
     "output_type": "execute_result"
    }
   ],
   "source": [
    "# The distribution of entities\n",
    "\n",
    "entity_counts = pd.Series([label for sublist in data_df['labels'] for label in sublist]).value_counts()\n",
    "\n",
    "entity_counts"
   ]
  }
 ],
 "metadata": {
  "kernelspec": {
   "display_name": "ml_env",
   "language": "python",
   "name": "python3"
  },
  "language_info": {
   "codemirror_mode": {
    "name": "ipython",
    "version": 3
   },
   "file_extension": ".py",
   "mimetype": "text/x-python",
   "name": "python",
   "nbconvert_exporter": "python",
   "pygments_lexer": "ipython3",
   "version": "3.12.2"
  }
 },
 "nbformat": 4,
 "nbformat_minor": 2
}
