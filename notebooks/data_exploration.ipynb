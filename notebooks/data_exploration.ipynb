{
 "cells": [
  {
   "cell_type": "code",
   "execution_count": 1,
   "metadata": {},
   "outputs": [],
   "source": [
    "import os\n",
    "from pathlib import Path\n",
    "\n",
    "base_dir = Path(os.getcwd()).parent"
   ]
  },
  {
   "cell_type": "code",
   "execution_count": 2,
   "metadata": {},
   "outputs": [
    {
     "data": {
      "text/html": [
       "<div>\n",
       "<style scoped>\n",
       "    .dataframe tbody tr th:only-of-type {\n",
       "        vertical-align: middle;\n",
       "    }\n",
       "\n",
       "    .dataframe tbody tr th {\n",
       "        vertical-align: top;\n",
       "    }\n",
       "\n",
       "    .dataframe thead th {\n",
       "        text-align: right;\n",
       "    }\n",
       "</style>\n",
       "<table border=\"1\" class=\"dataframe\">\n",
       "  <thead>\n",
       "    <tr style=\"text-align: right;\">\n",
       "      <th></th>\n",
       "      <th>words</th>\n",
       "      <th>labels</th>\n",
       "    </tr>\n",
       "  </thead>\n",
       "  <tbody>\n",
       "    <tr>\n",
       "      <th>0</th>\n",
       "      <td>[Lam, og, piggvar, på, bryllupsmenyen]</td>\n",
       "      <td>[O, O, O, O, O]</td>\n",
       "    </tr>\n",
       "    <tr>\n",
       "      <th>1</th>\n",
       "      <td>[Kamskjell, ,, piggvar, og, lammefilet, sto, p...</td>\n",
       "      <td>[O, O, O, O, O, O, O, O, O, O, O, O, O]</td>\n",
       "    </tr>\n",
       "    <tr>\n",
       "      <th>2</th>\n",
       "      <td>[Og, til, dessert, :, Parfait, à, la, Mette-Ma...</td>\n",
       "      <td>[O, O, O, O, B-PROD, I-PROD, I-PROD, I-PROD, O]</td>\n",
       "    </tr>\n",
       "    <tr>\n",
       "      <th>3</th>\n",
       "      <td>[Forretten, lyder, navnet, \", Coquilles, St., ...</td>\n",
       "      <td>[O, O, O, O, B-PROD, I-PROD, I-PROD, I-PROD, I...</td>\n",
       "    </tr>\n",
       "    <tr>\n",
       "      <th>4</th>\n",
       "      <td>[Deretter, fulgte, \", Turbot, au, Four, -, pur...</td>\n",
       "      <td>[O, O, O, B-PROD, I-PROD, I-PROD, I-PROD, I-PR...</td>\n",
       "    </tr>\n",
       "    <tr>\n",
       "      <th>...</th>\n",
       "      <td>...</td>\n",
       "      <td>...</td>\n",
       "    </tr>\n",
       "    <tr>\n",
       "      <th>15691</th>\n",
       "      <td>[Et, helårs, reisemål, for, den, som, liker, n...</td>\n",
       "      <td>[O, O, O, O, O, O, O, O, O, O, O, O]</td>\n",
       "    </tr>\n",
       "    <tr>\n",
       "      <th>15692</th>\n",
       "      <td>[Du, må, være, innstilt, på, at, du, kan, få, ...</td>\n",
       "      <td>[O, O, O, O, O, O, O, O, O, O, O, O, O, O, O, ...</td>\n",
       "    </tr>\n",
       "    <tr>\n",
       "      <th>15693</th>\n",
       "      <td>[Bo, :]</td>\n",
       "      <td>[O, O]</td>\n",
       "    </tr>\n",
       "    <tr>\n",
       "      <th>15694</th>\n",
       "      <td>[Mange, muligheter, for, overnatting, i, Torsh...</td>\n",
       "      <td>[O, O, O, O, O, B-GPE_LOC, O, O, O, O, O, O, O...</td>\n",
       "    </tr>\n",
       "    <tr>\n",
       "      <th>15695</th>\n",
       "      <td>[Vi, bodde, på, Hotel, Føroyar, .]</td>\n",
       "      <td>[O, O, O, B-LOC, I-LOC, O]</td>\n",
       "    </tr>\n",
       "  </tbody>\n",
       "</table>\n",
       "<p>15696 rows × 2 columns</p>\n",
       "</div>"
      ],
      "text/plain": [
       "                                                   words  \\\n",
       "0                 [Lam, og, piggvar, på, bryllupsmenyen]   \n",
       "1      [Kamskjell, ,, piggvar, og, lammefilet, sto, p...   \n",
       "2      [Og, til, dessert, :, Parfait, à, la, Mette-Ma...   \n",
       "3      [Forretten, lyder, navnet, \", Coquilles, St., ...   \n",
       "4      [Deretter, fulgte, \", Turbot, au, Four, -, pur...   \n",
       "...                                                  ...   \n",
       "15691  [Et, helårs, reisemål, for, den, som, liker, n...   \n",
       "15692  [Du, må, være, innstilt, på, at, du, kan, få, ...   \n",
       "15693                                            [Bo, :]   \n",
       "15694  [Mange, muligheter, for, overnatting, i, Torsh...   \n",
       "15695                 [Vi, bodde, på, Hotel, Føroyar, .]   \n",
       "\n",
       "                                                  labels  \n",
       "0                                        [O, O, O, O, O]  \n",
       "1                [O, O, O, O, O, O, O, O, O, O, O, O, O]  \n",
       "2        [O, O, O, O, B-PROD, I-PROD, I-PROD, I-PROD, O]  \n",
       "3      [O, O, O, O, B-PROD, I-PROD, I-PROD, I-PROD, I...  \n",
       "4      [O, O, O, B-PROD, I-PROD, I-PROD, I-PROD, I-PR...  \n",
       "...                                                  ...  \n",
       "15691               [O, O, O, O, O, O, O, O, O, O, O, O]  \n",
       "15692  [O, O, O, O, O, O, O, O, O, O, O, O, O, O, O, ...  \n",
       "15693                                             [O, O]  \n",
       "15694  [O, O, O, O, O, B-GPE_LOC, O, O, O, O, O, O, O...  \n",
       "15695                         [O, O, O, B-LOC, I-LOC, O]  \n",
       "\n",
       "[15696 rows x 2 columns]"
      ]
     },
     "execution_count": 2,
     "metadata": {},
     "output_type": "execute_result"
    }
   ],
   "source": [
    "from transformers import AutoTokenizer\n",
    "from src.utils.config_loader import load_config\n",
    "from src.data.preprocessing import create_df\n",
    "from src.data.dataset import Dataset\n",
    "\n",
    "config = load_config(base_dir / 'model_params.yaml')\n",
    "\n",
    "tokenizer = AutoTokenizer.from_pretrained(config['model']['model_name'])\n",
    "\n",
    "data_df = create_df(base_dir / 'data/norne/ud/nob/no_bokmaal-ud-train.conllu')\n",
    "\n",
    "data_df"
   ]
  },
  {
   "cell_type": "code",
   "execution_count": 3,
   "metadata": {},
   "outputs": [
    {
     "data": {
      "text/plain": [
       "40"
      ]
     },
     "execution_count": 3,
     "metadata": {},
     "output_type": "execute_result"
    }
   ],
   "source": [
    "import pandas as pd\n",
    "import numpy as np\n",
    "\n",
    "tokenized_lengths = []\n",
    "\n",
    "for sentence in data_df['words']:  \n",
    "    length = len(\n",
    "        tokenizer.encode(\n",
    "        sentence, \n",
    "        is_split_into_words=True, \n",
    "        add_special_tokens=True\n",
    "        )\n",
    "    )\n",
    "    tokenized_lengths.append(length)\n",
    "\n",
    "p_95 = int(np.percentile(tokenized_lengths, 95)) # 95th percentile\n",
    "\n",
    "p_95"
   ]
  },
  {
   "cell_type": "code",
   "execution_count": 4,
   "metadata": {},
   "outputs": [
    {
     "data": {
      "text/html": [
       "<div>\n",
       "<style scoped>\n",
       "    .dataframe tbody tr th:only-of-type {\n",
       "        vertical-align: middle;\n",
       "    }\n",
       "\n",
       "    .dataframe tbody tr th {\n",
       "        vertical-align: top;\n",
       "    }\n",
       "\n",
       "    .dataframe thead th {\n",
       "        text-align: right;\n",
       "    }\n",
       "</style>\n",
       "<table border=\"1\" class=\"dataframe\">\n",
       "  <thead>\n",
       "    <tr style=\"text-align: right;\">\n",
       "      <th></th>\n",
       "      <th>0</th>\n",
       "    </tr>\n",
       "  </thead>\n",
       "  <tbody>\n",
       "    <tr>\n",
       "      <th>count</th>\n",
       "      <td>15696.000000</td>\n",
       "    </tr>\n",
       "    <tr>\n",
       "      <th>mean</th>\n",
       "      <td>19.733117</td>\n",
       "    </tr>\n",
       "    <tr>\n",
       "      <th>std</th>\n",
       "      <td>11.050347</td>\n",
       "    </tr>\n",
       "    <tr>\n",
       "      <th>min</th>\n",
       "      <td>3.000000</td>\n",
       "    </tr>\n",
       "    <tr>\n",
       "      <th>25%</th>\n",
       "      <td>11.000000</td>\n",
       "    </tr>\n",
       "    <tr>\n",
       "      <th>50%</th>\n",
       "      <td>18.000000</td>\n",
       "    </tr>\n",
       "    <tr>\n",
       "      <th>75%</th>\n",
       "      <td>26.000000</td>\n",
       "    </tr>\n",
       "    <tr>\n",
       "      <th>max</th>\n",
       "      <td>109.000000</td>\n",
       "    </tr>\n",
       "  </tbody>\n",
       "</table>\n",
       "</div>"
      ],
      "text/plain": [
       "                  0\n",
       "count  15696.000000\n",
       "mean      19.733117\n",
       "std       11.050347\n",
       "min        3.000000\n",
       "25%       11.000000\n",
       "50%       18.000000\n",
       "75%       26.000000\n",
       "max      109.000000"
      ]
     },
     "execution_count": 4,
     "metadata": {},
     "output_type": "execute_result"
    }
   ],
   "source": [
    "df = pd.DataFrame(tokenized_lengths)\n",
    "\n",
    "df.describe()"
   ]
  },
  {
   "cell_type": "code",
   "execution_count": 5,
   "metadata": {},
   "outputs": [
    {
     "data": {
      "image/png": "[encoded data removed]",
      "text/plain": [
       "<Figure size 640x480 with 1 Axes>"
      ]
     },
     "metadata": {},
     "output_type": "display_data"
    }
   ],
   "source": [
    "import matplotlib.pyplot as plt\n",
    "\n",
    "plt.hist(df, bins=30)\n",
    "plt.show()"
   ]
  },
  {
   "cell_type": "code",
   "execution_count": 9,
   "metadata": {},
   "outputs": [
    {
     "data": {
      "text/plain": [
       "O            228049\n",
       "B-PER          4070\n",
       "B-ORG          2849\n",
       "I-PER          2308\n",
       "B-GPE_LOC      2136\n",
       "I-ORG           944\n",
       "B-PROD          676\n",
       "B-LOC           618\n",
       "I-PROD          608\n",
       "B-DRV           524\n",
       "B-GPE_ORG       389\n",
       "I-LOC           224\n",
       "I-GPE_LOC       142\n",
       "B-EVT           133\n",
       "I-DRV           116\n",
       "I-EVT            68\n",
       "I-GPE_ORG        21\n",
       "B-MISC            8\n",
       "I-MISC            4\n",
       "Name: count, dtype: int64"
      ]
     },
     "execution_count": 9,
     "metadata": {},
     "output_type": "execute_result"
    }
   ],
   "source": [
    "# The distribution of entities\n",
    "\n",
    "entity_counts = pd.Series([label for sublist in data_df['labels'] for label in sublist]).value_counts()\n",
    "\n",
    "entity_counts"
   ]
  }
 ],
 "metadata": {
  "kernelspec": {
   "display_name": "ml_env",
   "language": "python",
   "name": "python3"
  },
  "language_info": {
   "codemirror_mode": {
    "name": "ipython",
    "version": 3
   },
   "file_extension": ".py",
   "mimetype": "text/x-python",
   "name": "python",
   "nbconvert_exporter": "python",
   "pygments_lexer": "ipython3",
   "version": "3.12.2"
  }
 },
 "nbformat": 4,
 "nbformat_minor": 2
}
