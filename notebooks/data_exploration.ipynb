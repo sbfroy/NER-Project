{
 "cells": [
  {
   "cell_type": "code",
   "execution_count": 1,
   "metadata": {},
   "outputs": [],
   "source": [
    "import os\n",
    "from pathlib import Path\n",
    "\n",
    "base_dir = Path(os.getcwd()).parent"
   ]
  },
  {
   "cell_type": "code",
   "execution_count": 2,
   "metadata": {},
   "outputs": [
    {
     "data": {
      "text/html": [
       "<div>\n",
       "<style scoped>\n",
       "    .dataframe tbody tr th:only-of-type {\n",
       "        vertical-align: middle;\n",
       "    }\n",
       "\n",
       "    .dataframe tbody tr th {\n",
       "        vertical-align: top;\n",
       "    }\n",
       "\n",
       "    .dataframe thead th {\n",
       "        text-align: right;\n",
       "    }\n",
       "</style>\n",
       "<table border=\"1\" class=\"dataframe\">\n",
       "  <thead>\n",
       "    <tr style=\"text-align: right;\">\n",
       "      <th></th>\n",
       "      <th>words</th>\n",
       "      <th>labels</th>\n",
       "    </tr>\n",
       "  </thead>\n",
       "  <tbody>\n",
       "    <tr>\n",
       "      <th>0</th>\n",
       "      <td>[Detaljregulering, ,, Solstad, boligfelt, ,, E...</td>\n",
       "      <td>[O, O, O, O, O, O, O, O, O, O, O, O, O, O, O, ...</td>\n",
       "    </tr>\n",
       "    <tr>\n",
       "      <th>1</th>\n",
       "      <td>[Reguleringsbestemmelser, for, Støperitomta, P...</td>\n",
       "      <td>[O, O, O, O, O, O]</td>\n",
       "    </tr>\n",
       "    <tr>\n",
       "      <th>2</th>\n",
       "      <td>[PLANBESTEMMELSER, Detaljregulering, for, Kjet...</td>\n",
       "      <td>[O, O, O, O, O, O, O, O, O, O, O, O, O]</td>\n",
       "    </tr>\n",
       "    <tr>\n",
       "      <th>3</th>\n",
       "      <td>[Reguleringsbestemmelser, for, Krossen, KROSSE...</td>\n",
       "      <td>[O, O, O, O, O, O, O, O, O]</td>\n",
       "    </tr>\n",
       "    <tr>\n",
       "      <th>4</th>\n",
       "      <td>[REGULERINGSBESTEMMELSER, ,, DETALJREGULERING,...</td>\n",
       "      <td>[O, O, O, O, O, O, O]</td>\n",
       "    </tr>\n",
       "    <tr>\n",
       "      <th>...</th>\n",
       "      <td>...</td>\n",
       "      <td>...</td>\n",
       "    </tr>\n",
       "    <tr>\n",
       "      <th>2369</th>\n",
       "      <td>[Det, skal, takast, kontakt, med, Universitets...</td>\n",
       "      <td>[O, O, O, O, O, O, O, O, O, O, O, O, O, O, O, ...</td>\n",
       "    </tr>\n",
       "    <tr>\n",
       "      <th>2370</th>\n",
       "      <td>[Utgifter, i, samband, med, den, arkeologiske,...</td>\n",
       "      <td>[O, O, O, O, O, O, O, O, O, O, O, O, O, O, O, ...</td>\n",
       "    </tr>\n",
       "    <tr>\n",
       "      <th>2371</th>\n",
       "      <td>[10, ., FØRESEGNER]</td>\n",
       "      <td>[O, O, O]</td>\n",
       "    </tr>\n",
       "    <tr>\n",
       "      <th>2372</th>\n",
       "      <td>[TIL, DETALJREGULERING, HITTUN]</td>\n",
       "      <td>[O, O, O]</td>\n",
       "    </tr>\n",
       "    <tr>\n",
       "      <th>2373</th>\n",
       "      <td>[Side, 10, av, 10]</td>\n",
       "      <td>[O, O, O, O]</td>\n",
       "    </tr>\n",
       "  </tbody>\n",
       "</table>\n",
       "<p>2374 rows × 2 columns</p>\n",
       "</div>"
      ],
      "text/plain": [
       "                                                  words  \\\n",
       "0     [Detaljregulering, ,, Solstad, boligfelt, ,, E...   \n",
       "1     [Reguleringsbestemmelser, for, Støperitomta, P...   \n",
       "2     [PLANBESTEMMELSER, Detaljregulering, for, Kjet...   \n",
       "3     [Reguleringsbestemmelser, for, Krossen, KROSSE...   \n",
       "4     [REGULERINGSBESTEMMELSER, ,, DETALJREGULERING,...   \n",
       "...                                                 ...   \n",
       "2369  [Det, skal, takast, kontakt, med, Universitets...   \n",
       "2370  [Utgifter, i, samband, med, den, arkeologiske,...   \n",
       "2371                                [10, ., FØRESEGNER]   \n",
       "2372                    [TIL, DETALJREGULERING, HITTUN]   \n",
       "2373                                 [Side, 10, av, 10]   \n",
       "\n",
       "                                                 labels  \n",
       "0     [O, O, O, O, O, O, O, O, O, O, O, O, O, O, O, ...  \n",
       "1                                    [O, O, O, O, O, O]  \n",
       "2               [O, O, O, O, O, O, O, O, O, O, O, O, O]  \n",
       "3                           [O, O, O, O, O, O, O, O, O]  \n",
       "4                                 [O, O, O, O, O, O, O]  \n",
       "...                                                 ...  \n",
       "2369  [O, O, O, O, O, O, O, O, O, O, O, O, O, O, O, ...  \n",
       "2370  [O, O, O, O, O, O, O, O, O, O, O, O, O, O, O, ...  \n",
       "2371                                          [O, O, O]  \n",
       "2372                                          [O, O, O]  \n",
       "2373                                       [O, O, O, O]  \n",
       "\n",
       "[2374 rows x 2 columns]"
      ]
     },
     "execution_count": 2,
     "metadata": {},
     "output_type": "execute_result"
    }
   ],
   "source": [
    "from transformers import AutoTokenizer\n",
    "from src.utils.config_loader import load_config\n",
    "from src.data.preprocessing import create_df\n",
    "from src.data.dataset import Dataset\n",
    "\n",
    "config = load_config(base_dir / 'model_params.yaml')\n",
    "\n",
    "tokenizer = AutoTokenizer.from_pretrained(config['model']['model_name'])\n",
    "\n",
    "data_df = create_df(base_dir / 'data/my_data/all_regplans.conllu')\n",
    "\n",
    "data_df"
   ]
  },
  {
   "cell_type": "code",
   "execution_count": 3,
   "metadata": {},
   "outputs": [
    {
     "data": {
      "text/plain": [
       "48"
      ]
     },
     "execution_count": 3,
     "metadata": {},
     "output_type": "execute_result"
    }
   ],
   "source": [
    "import pandas as pd\n",
    "import numpy as np\n",
    "\n",
    "tokenized_lengths = []\n",
    "\n",
    "for sentence in data_df['words']:  \n",
    "    length = len(\n",
    "        tokenizer.encode(\n",
    "        sentence, \n",
    "        is_split_into_words=True, \n",
    "        add_special_tokens=True\n",
    "        )\n",
    "    )\n",
    "    tokenized_lengths.append(length)\n",
    "\n",
    "p_95 = int(np.percentile(tokenized_lengths, 95)) # 95th percentile\n",
    "\n",
    "p_95"
   ]
  },
  {
   "cell_type": "code",
   "execution_count": 4,
   "metadata": {},
   "outputs": [
    {
     "data": {
      "text/html": [
       "<div>\n",
       "<style scoped>\n",
       "    .dataframe tbody tr th:only-of-type {\n",
       "        vertical-align: middle;\n",
       "    }\n",
       "\n",
       "    .dataframe tbody tr th {\n",
       "        vertical-align: top;\n",
       "    }\n",
       "\n",
       "    .dataframe thead th {\n",
       "        text-align: right;\n",
       "    }\n",
       "</style>\n",
       "<table border=\"1\" class=\"dataframe\">\n",
       "  <thead>\n",
       "    <tr style=\"text-align: right;\">\n",
       "      <th></th>\n",
       "      <th>0</th>\n",
       "    </tr>\n",
       "  </thead>\n",
       "  <tbody>\n",
       "    <tr>\n",
       "      <th>count</th>\n",
       "      <td>2374.000000</td>\n",
       "    </tr>\n",
       "    <tr>\n",
       "      <th>mean</th>\n",
       "      <td>20.489890</td>\n",
       "    </tr>\n",
       "    <tr>\n",
       "      <th>std</th>\n",
       "      <td>14.760274</td>\n",
       "    </tr>\n",
       "    <tr>\n",
       "      <th>min</th>\n",
       "      <td>2.000000</td>\n",
       "    </tr>\n",
       "    <tr>\n",
       "      <th>25%</th>\n",
       "      <td>9.000000</td>\n",
       "    </tr>\n",
       "    <tr>\n",
       "      <th>50%</th>\n",
       "      <td>18.000000</td>\n",
       "    </tr>\n",
       "    <tr>\n",
       "      <th>75%</th>\n",
       "      <td>27.000000</td>\n",
       "    </tr>\n",
       "    <tr>\n",
       "      <th>max</th>\n",
       "      <td>143.000000</td>\n",
       "    </tr>\n",
       "  </tbody>\n",
       "</table>\n",
       "</div>"
      ],
      "text/plain": [
       "                 0\n",
       "count  2374.000000\n",
       "mean     20.489890\n",
       "std      14.760274\n",
       "min       2.000000\n",
       "25%       9.000000\n",
       "50%      18.000000\n",
       "75%      27.000000\n",
       "max     143.000000"
      ]
     },
     "execution_count": 4,
     "metadata": {},
     "output_type": "execute_result"
    }
   ],
   "source": [
    "df = pd.DataFrame(tokenized_lengths)\n",
    "\n",
    "df.describe()"
   ]
  },
  {
   "cell_type": "code",
   "execution_count": 5,
   "metadata": {},
   "outputs": [
    {
     "data": {
      "image/png": "[encoded data removed]",
      "text/plain": [
       "<Figure size 640x480 with 1 Axes>"
      ]
     },
     "metadata": {},
     "output_type": "display_data"
    }
   ],
   "source": [
    "import matplotlib.pyplot as plt\n",
    "\n",
    "plt.hist(df, bins=30)\n",
    "plt.show()"
   ]
  },
  {
   "cell_type": "code",
   "execution_count": 6,
   "metadata": {},
   "outputs": [
    {
     "data": {
      "text/plain": [
       "O         22466\n",
       "B-FELT      739\n",
       "I-FELT      110\n",
       "Name: count, dtype: int64"
      ]
     },
     "execution_count": 6,
     "metadata": {},
     "output_type": "execute_result"
    }
   ],
   "source": [
    "# The distribution of entities\n",
    "\n",
    "entity_counts = pd.Series([label for sublist in data_df['labels'] for label in sublist]).value_counts()\n",
    "\n",
    "entity_counts"
   ]
  }
 ],
 "metadata": {
  "kernelspec": {
   "display_name": "ml_env",
   "language": "python",
   "name": "python3"
  },
  "language_info": {
   "codemirror_mode": {
    "name": "ipython",
    "version": 3
   },
   "file_extension": ".py",
   "mimetype": "text/x-python",
   "name": "python",
   "nbconvert_exporter": "python",
   "pygments_lexer": "ipython3",
   "version": "3.12.2"
  }
 },
 "nbformat": 4,
 "nbformat_minor": 2
}
